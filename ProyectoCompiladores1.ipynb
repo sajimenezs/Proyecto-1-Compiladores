{
  "nbformat": 4,
  "nbformat_minor": 0,
  "metadata": {
    "colab": {
      "provenance": [],
      "collapsed_sections": []
    },
    "kernelspec": {
      "name": "python3",
      "display_name": "Python 3"
    },
    "language_info": {
      "name": "python"
    }
  },
  "cells": [
    {
      "cell_type": "markdown",
      "source": [
        "Este proyecto consiste de 3 partes:"
      ],
      "metadata": {
        "id": "9QaqXBWbdejf"
      }
    },
    {
      "cell_type": "markdown",
      "source": [
        "#Parte A\n",
        "\n",
        "Construccion de una herramienta propia para la construcción de scanners\n",
        "\n",
        "\n",
        "Para esto primero vamos a leer el archivo de especificación de Tokens, el cual va a contener el nombre del token con su expresion regular correspondiente.\n",
        "\n",
        "Luego para cada expresión regular utilizamos el algoritmo de Thompson y convertimos estas expresiones en NFA's, para luego convertrlas en DFA's utilizando el algoritmo de construcción de subconjuntos.\n",
        "\n",
        "Después con estos DFA's para cada expresión podemos tokenizar comprobando el string con los autómatas generados."
      ],
      "metadata": {
        "id": "AbKMF2pBXmo-"
      }
    },
    {
      "cell_type": "code",
      "execution_count": 39,
      "metadata": {
        "id": "_3a3TCshvN_d"
      },
      "outputs": [],
      "source": [
        "def readInput(filePath):\n",
        "  \"\"\"Recibe el input del archivo de texto y retorna los pares \n",
        "  [<nombre_token>,<expresion_regular>] \"\"\"\n",
        "  text=open(filePath,'r');\n",
        "  pairs=[\n",
        "    tuple(map(lambda s: s.strip(),string.split(\"->\"))) for string in text.readlines()\n",
        "  ];\n",
        "  return dict(pairs)"
      ]
    },
    {
      "cell_type": "code",
      "source": [
        "def addConcat(regEx):\n",
        "  \"\"\"Agrega el simbolo '~' como operador de concatenación\"\"\"\n",
        "  op=['~','|']\n",
        "  unary=['*','+','?']\n",
        "  new = \"\"\n",
        "  inClass=False\n",
        "  for char in regEx:\n",
        "      if inClass:\n",
        "        if char==']':\n",
        "          inClass=False\n",
        "        new +=char\n",
        "        continue\n",
        "      if(len(new)):\n",
        "          prev= new[-1]\n",
        "          if (prev==')' or (prev not in op+['(',chr(92)]) or prev in unary) and (char=='(' or char not in op+unary+[')']):\n",
        "              new += \"~\"\n",
        "      if char=='[':\n",
        "        inClass=True\n",
        "      new +=char\n",
        "\n",
        "  return new\n",
        "\n",
        "def postFix(regEx):\n",
        "  \"\"\"Pasa la expresión regular de infix a postfix\"\"\"\n",
        "  new=addConcat(regEx)\n",
        "  prec={\n",
        "      '*':3, '+':3, '?':3, '~':2, '|':1\n",
        "      }\n",
        "  op=[]\n",
        "  out=\"\"\n",
        "  for char in new:\n",
        "    if char in prec:\n",
        "      \n",
        "      while len(op) and op[-1] not in \"()\" and prec[op[-1]]> prec[char]:\n",
        "        out+=op.pop()\n",
        "      op.append(char)\n",
        "    elif char=='(':\n",
        "      op.append(char)\n",
        "    elif char==')':\n",
        "      while len(op) and op[-1]!= '(':\n",
        "        out+=op.pop()\n",
        "      op.pop()\n",
        "    else:\n",
        "      out+=char\n",
        "  while len(op)>0:\n",
        "    out+=op.pop()\n",
        "  \n",
        "  return out  "
      ],
      "metadata": {
        "id": "FsfIQ75jr3Hn"
      },
      "execution_count": 40,
      "outputs": []
    },
    {
      "cell_type": "code",
      "source": [
        "#Funciones auxiliares\n",
        "def include(dicc,key,l):\n",
        "  if dicc.get(key)!= None:\n",
        "    dicc[key].extend(l)\n",
        "  else:\n",
        "    dicc[key]=l"
      ],
      "metadata": {
        "id": "TYwxSMYer8k0"
      },
      "execution_count": 41,
      "outputs": []
    },
    {
      "cell_type": "code",
      "source": [
        "#Clase NFA final\n",
        "\"\"\"Clase node para recorrer los nodos de los autómatas\"\"\"\n",
        "class node:\n",
        "  trans={}\n",
        "  def __init__(self,dic):\n",
        "    self.trans=dic\n",
        "\n",
        "\"\"\"Clase NFA para la construcción de autómatas NFA y luego pasarlos a DFA\"\"\"\n",
        "class NFA:\n",
        "  start=None;\n",
        "  accepting=None;\n",
        "\n",
        "  def __init__(self, exp, inClass=False):\n",
        "    self.accepting=node({})\n",
        "    if inClass:\n",
        "      self.start=node({})\n",
        "      i=0\n",
        "      while(i<(len(exp)-2)):\n",
        "        if(exp[i+1]=='-'):\n",
        "          for j in range(ord(exp[i]),ord(exp[i+2])+1):\n",
        "            self.start.trans[chr(j)]=[self.accepting]\n",
        "          i+=2\n",
        "        else:\n",
        "            self.start.trans[exp[i]]=[self.accepting]\n",
        "        i+=1\n",
        "      while(i<len(exp)):\n",
        "        self.start.trans[exp[i]]=[self.accepting]\n",
        "        i+=1\n",
        "    else:\n",
        "      self.start=node({exp:[self.accepting]})\n",
        "\n",
        "  def __str__(self):\n",
        "    \n",
        "    oldstates=[self.start]\n",
        "    newstates=[{}]\n",
        "    stack=[self.start]\n",
        "    while(len(stack)):\n",
        "      \n",
        "      curr=stack.pop()\n",
        "      \n",
        "      for key,value in curr.trans.items():\n",
        "        \n",
        "        for n in value:\n",
        "          if n not in oldstates:\n",
        "            stack.append(n)\n",
        "            oldstates.append(n)\n",
        "            newstates.append({})\n",
        "          include(newstates[oldstates.index(curr)],key,[oldstates.index(n)])\n",
        "          \n",
        "\n",
        "    return str(newstates)+str(oldstates.index(self.accepting))\n",
        "\n",
        "  \n",
        "#---------------Operadores de expresión regular--------------------\n",
        "\n",
        "  def concatenation(self, other):  \n",
        "    other.accepting.trans=self.start.trans  \n",
        "    other.accepting=self.accepting\n",
        "    \n",
        "    return other\n",
        "\n",
        "  def union(self, other):\n",
        "    other.start=node({'ϵ':[other.start,self.start]})\n",
        "    finalNode=node({})\n",
        "    include(other.accepting.trans,'ϵ',[finalNode])\n",
        "    include(self.accepting.trans,'ϵ',[finalNode])\n",
        "    other.accepting=finalNode\n",
        "    \n",
        "    return other\n",
        "\n",
        "  def kleene(self):\n",
        "    finalNode=node({})\n",
        "    include(self.accepting.trans,'ϵ',[self.start,finalNode])\n",
        "    self.start=node({'ϵ':[self.start,finalNode]})\n",
        "    self.accepting=finalNode\n",
        "\n",
        "    return self\n",
        "    \n",
        "  def positive(self):\n",
        "    finalNode=node({})\n",
        "    include(self.accepting.trans,'ϵ',[self.start,finalNode])\n",
        "    self.start=node({'ϵ':[self.start]})\n",
        "    self.accepting=finalNode\n",
        "\n",
        "    return self\n",
        "\n",
        "  def optional(self):\n",
        "    finalNode=node({})\n",
        "    include(self.accepting.trans,'ϵ',[finalNode])\n",
        "    self.start=node({'ϵ':[self.start,finalNode]})\n",
        "    self.accepting=finalNode\n",
        "\n",
        "    return self\n",
        "\n",
        "#----------------------Construcción de subconjuntos---------------------\n",
        "  \n",
        "  def e_clausura(self,state):\n",
        "    C=[state]\n",
        "    notChecked=0\n",
        "    \n",
        "    while(len(C)>notChecked):\n",
        "      if C[notChecked].trans.get('ϵ')!= None:\n",
        "        C=C+C[notChecked].trans['ϵ']\n",
        "      notChecked+=1\n",
        "\n",
        "    return set(C)\n",
        "\n",
        "  def e_clausura_set(self,conj):\n",
        "    c=set([i for i in conj])\n",
        "    stack=[i for i in conj]\n",
        "    while(len(stack)):\n",
        "      t=stack.pop()\n",
        "      if t.trans.get('ϵ')!= None:\n",
        "        for u in t.trans['ϵ']:\n",
        "          if u not in c:\n",
        "            c.add(u)\n",
        "            stack.append(u)\n",
        "    return c\n",
        "\n",
        "  def Trans(self,state,char):\n",
        "    S=set({})\n",
        "    if state.trans.get(char)!= None:\n",
        "      S =S|set(state.trans[char])\n",
        "\n",
        "    return S\n",
        "  \n",
        "  def Trans_set(self,conj,char):\n",
        "    S=set({})\n",
        "    for i in conj:\n",
        "      S=S|self.Trans(i,char)\n",
        "    return S\n",
        "\n",
        "  def getSymbols(self,conj):\n",
        "    \"\"\"Obtiene todos los símbolos con transiciones del conjunto\"\"\"\n",
        "    symbols=set({})\n",
        "    for i in conj:\n",
        "      symbols=symbols|set(i.trans.keys())\n",
        "    return symbols\n",
        "\n",
        "  def NFA_to_DFA(self):\n",
        "    \"\"\"Algoritmo de construccion de subconjuntos \"\"\"\n",
        "    Dstates=[self.e_clausura(self.start)]\n",
        "\n",
        "    notMarked=0\n",
        "    accepting=[]\n",
        "    DFA=[node({})]\n",
        "    if self.accepting in Dstates[0]:\n",
        "      accepting.append(0)\n",
        "\n",
        "    while(len(Dstates)>notMarked):\n",
        "      T=Dstates[notMarked]\n",
        "      \n",
        "      symbols=self.getSymbols(T)-{'ϵ'}\n",
        "      \n",
        "      for char in symbols:\n",
        "        U=self.e_clausura_set(self.Trans_set(T,char));\n",
        "\n",
        "        if U not in Dstates:\n",
        "          Dstates.append(U)\n",
        "          newNode=node({})\n",
        "\n",
        "          if self.accepting in U:\n",
        "            accepting.append(len(DFA))\n",
        "          DFA.append(newNode)\n",
        "          DFA[notMarked].trans[char]=newNode\n",
        "        else:\n",
        "          DFA[notMarked].trans[char]=DFA[Dstates.index(U)]\n",
        "      notMarked+=1\n",
        "   \n",
        "    return DFA,accepting\n"
      ],
      "metadata": {
        "id": "e4RUkBJXZ_rn"
      },
      "execution_count": 42,
      "outputs": []
    },
    {
      "cell_type": "code",
      "source": [
        "def pfToNFA(postfix):\n",
        "  \"\"\"recibe la cadena en postfix para retornar el NFA como diccionario\n",
        "  \"\"\"\n",
        "  stack=[]\n",
        "\n",
        "  operations={\n",
        "    '*':lambda st: st.pop().kleene(),\n",
        "    '+':lambda st: st.pop().positive(),\n",
        "    '?':lambda st: st.pop().optional(),\n",
        "    '~':lambda st: st.pop().concatenation(st.pop()),\n",
        "    '|':lambda st: st.pop().union(st.pop()),\n",
        "  }\n",
        "  i=0;\n",
        "  while(i<len(postfix)):\n",
        "    if operations.get(postfix[i])==None:\n",
        "      if postfix[i]==chr(92):\n",
        "\n",
        "        stack.append(NFA(postfix[i+1])) \n",
        "        i+=1\n",
        "      elif postfix[i]=='[' :\n",
        "        clas=\"\"\n",
        "        while(postfix[i+1]!=']'):\n",
        "          i+=1\n",
        "          clas+=postfix[i]\n",
        "        i+=1\n",
        "        stack.append(NFA(clas,inClass=True))  \n",
        "      else:\n",
        "        stack.append(NFA(postfix[i]))      \n",
        "    else:\n",
        "      stack.append(operations[postfix[i]](stack))\n",
        "    i+=1\n",
        "  return stack.pop()"
      ],
      "metadata": {
        "id": "LTdrXeNjsEI1"
      },
      "execution_count": 43,
      "outputs": []
    },
    {
      "cell_type": "code",
      "source": [
        "def DFAtoMatrix(DFA,accepting):\n",
        "  \"\"\"Retorna la matriz del automata para ascii\"\"\"\n",
        "  matrix=[[-1 for j in range(256)] for i in DFA] \n",
        "  for i in range(len(DFA)):\n",
        "    for j in DFA[i].trans.keys():\n",
        "      matrix[i][ord(j)]=DFA.index(DFA[i].trans[j])\n",
        "  return matrix\n",
        "\n",
        "def printDFA(DFA, ac):\n",
        "  oldstates=[DFA[0]]\n",
        "  newstates=[{}]\n",
        "  stack=[DFA[0]]\n",
        "  while(len(stack)): \n",
        "    curr=stack.pop()\n",
        "    for key,value in curr.trans.items():\n",
        "      if value not in oldstates:\n",
        "        stack.append(value)\n",
        "        oldstates.append(value)\n",
        "        newstates.append({})\n",
        "      include(newstates[oldstates.index(curr)],key,oldstates.index(value))\n",
        "  print(newstates)\n",
        "  for i in ac:\n",
        "    print(i)\n",
        "  "
      ],
      "metadata": {
        "id": "DoZbah9203vK"
      },
      "execution_count": 44,
      "outputs": []
    },
    {
      "cell_type": "code",
      "source": [
        "def TokenIz(TokList, string):\n",
        "  \"\"\"Tokeniza el string o texto ingresado con las especificaciones dadas por \n",
        "  TokList (diccionario de las especificaciones)\n",
        "  \"\"\"\n",
        "  tokens=[]\n",
        "  automatons={}\n",
        "\n",
        "  for key in TokList:\n",
        "    dfa,ac=pfToNFA(postFix(TokList[key])).NFA_to_DFA()    \n",
        "    automatons[key]=(DFAtoMatrix(dfa,ac),ac)\n",
        "\n",
        "  toCheck=list(automatons.keys())\n",
        "  state = [0 for k in automatons]\n",
        "\n",
        "  accepted=[]\n",
        "  i=0\n",
        "  start=1\n",
        "  while i<len(string):\n",
        "    \n",
        "    j = 0 \n",
        "    while j < len(toCheck):\n",
        "      mat = automatons[toCheck[j]][0]\n",
        "      if mat[state[j]][ord(string[i])] != -1:\n",
        "        state[j] = mat[state[j]][ord(string[i])]\n",
        "        j += 1\n",
        "      else:\n",
        "        toCheck.pop(j)\n",
        "        state.pop(j)\n",
        "\n",
        "    if not len(toCheck):\n",
        "      if not len(accepted):\n",
        "        print(\"Syntax Error\")\n",
        "        return\n",
        "      print(\n",
        "          \"Tipo de token \"+ accepted[0] + \" - Posición inicial:\"+ str(start)+\n",
        "          \" - Posición final:\" + str(i) + \" - Valor:\\'\" + string[start-1:i] + \"\\'\"\n",
        "          )\n",
        "      tokens.append((accepted[0],start-1,i))\n",
        "      start = i+1\n",
        "      toCheck = list(automatons.keys())\n",
        "      state = [0 for k in automatons]\n",
        "      continue\n",
        "      \n",
        "    accepted=[]\n",
        "\n",
        "    for k in range(len(toCheck)):   \n",
        "      if state[k] in automatons[toCheck[k]][1]:\n",
        "        accepted.append(toCheck[k])\n",
        "    i+=1\n",
        "  \n",
        "\n",
        "  if not len(accepted):\n",
        "    print(\"Syntax Error\")\n",
        "    return\n",
        "  print(\n",
        "      \"Tipo de token \"+ accepted[0] + \" - Posición inicial:\"+ str(start)+\n",
        "      \" - Posición final:\" + str(len(string)) + \" - Valor:\\'\" + string[start-1:] + \"\\'\"\n",
        "      )\n",
        "  tokens.append((accepted[0],start-1,i))\n",
        "  return tokens\n",
        " "
      ],
      "metadata": {
        "id": "s31x50WfX67Y"
      },
      "execution_count": 45,
      "outputs": []
    },
    {
      "cell_type": "markdown",
      "source": [
        "Ejemplo: leemos las especificaciones del archivo especificaciones.txt \n",
        "\n",
        "- for -> for|FOR\n",
        "- identifier -> [_a-z][_a-z0-9]*\n",
        "- digit -> [0-9][0-9]*\n",
        "- space -> [ ]\n",
        "- equal -> =\n",
        "\n",
        "y utilizando esto podemos tokenizar el string 'for a = 1'. "
      ],
      "metadata": {
        "id": "juFD_GUUgk7L"
      }
    },
    {
      "cell_type": "code",
      "source": [
        "\"\"\" Leemos el texto a tokenizar \"\"\" \n",
        "example = 'for a = 1'\n",
        "\n",
        "\n",
        "\"\"\" Leemos las especificaciones: \"\"\"\n",
        "test = readInput(\"especificaciones.txt\")\n",
        "\n",
        "\n",
        "tokens = TokenIz(test,example)"
      ],
      "metadata": {
        "colab": {
          "base_uri": "https://localhost:8080/"
        },
        "id": "HPk5te0epjWc",
        "outputId": "3002cfcc-94d8-4366-9c8a-0f6569ff0303"
      },
      "execution_count": 46,
      "outputs": [
        {
          "output_type": "stream",
          "name": "stdout",
          "text": [
            "Tipo de token for - Posición inicial:1 - Posición final:3 - Valor:'for'\n",
            "Tipo de token space - Posición inicial:4 - Posición final:4 - Valor:' '\n",
            "Tipo de token identifier - Posición inicial:5 - Posición final:5 - Valor:'a'\n",
            "Tipo de token space - Posición inicial:6 - Posición final:6 - Valor:' '\n",
            "Tipo de token equal - Posición inicial:7 - Posición final:7 - Valor:'='\n",
            "Tipo de token space - Posición inicial:8 - Posición final:8 - Valor:' '\n",
            "Tipo de token digit - Posición inicial:9 - Posición final:9 - Valor:'1'\n"
          ]
        }
      ]
    },
    {
      "cell_type": "markdown",
      "source": [
        "#Puntos adicionales"
      ],
      "metadata": {
        "id": "433JJ3WEbtf9"
      }
    },
    {
      "cell_type": "markdown",
      "source": [
        "1. Por dibujar automáticamente los autómatas finitos determinísticos utilizados\n",
        "para el reconocimiento de los tokens individuales."
      ],
      "metadata": {
        "id": "JIRGANvhkKpU"
      }
    },
    {
      "cell_type": "code",
      "source": [
        "#Graficas para símbolos individuales\n",
        "\n",
        "import graphviz  # doctest: +NO_EXE\n",
        "import matplotlib.pyplot as plt \n",
        "\n",
        "#Lee un DFA y lo dibuja:\n",
        "#NOTA: DFA ESTA EN MATRIZ\n",
        "#ACCEPT es lista de estados de aceptacion\n",
        "#ALPHA es alfabeto utilizado \n",
        "def DrawDFA(DFA, ACCEPT, ALPHA):\n",
        "    automata = graphviz.Digraph(format='PNG')\n",
        "    state=0\n",
        "    name=0\n",
        "    print(\"test\")\n",
        "    for i in DFA:  \n",
        "        state_name = 'q' + str(state)\n",
        "        if state in ACCEPT:\n",
        "            automata.node(str(name), state_name, shape = \"doublecircle\")\n",
        "        else:\n",
        "            automata.node(str(name), state_name, shape = \"circle\")\n",
        "        for j in range(len(i)):\n",
        "            #testdict = {}\n",
        "            if i[j] != -1:\n",
        "                #testdict[str(i[j])] = ALPHA[j]\n",
        "                automata.edge(str(name), str(i[j]) ,label = ALPHA[j])\n",
        "        #print(\">> testdict: \", testdict)\n",
        "        state +=1\n",
        "        name +=1\n",
        "    return automata"
      ],
      "metadata": {
        "id": "HpI0g4wobimv"
      },
      "execution_count": 47,
      "outputs": []
    },
    {
      "cell_type": "code",
      "source": [
        "#### \"Version mejorada\"\n",
        "#Multiples símbolos\n",
        "\n",
        "import graphviz  # doctest: +NO_EXE\n",
        "import matplotlib.pyplot as plt \n",
        "import more_itertools as mit\n",
        "\n",
        "\n",
        "#Lee un DFA y lo dibuja:\n",
        "#NOTA: DFA ESTA EN MATRIZ\n",
        "#ACCEPT es lista de estados de aceptacion\n",
        "#ALPHA es alfabeto utilizado \n",
        "def DrawDFA2(DFA, ACCEPT, ALPHA):\n",
        "    automata = graphviz.Digraph(format='PNG')\n",
        "    state=0\n",
        "    name=0\n",
        "    for i in DFA:  \n",
        "        state_name = 'q' + str(state)\n",
        "        if state in ACCEPT:\n",
        "            automata.node(str(name), state_name, shape = \"doublecircle\")\n",
        "        else:\n",
        "            automata.node(str(name), state_name, shape = \"circle\")\n",
        "        testdict = {}\n",
        "        for j in range(len(i)):\n",
        "            if i[j] != -1:\n",
        "                if i[j] not in testdict:\n",
        "                  testdict[i[j]] = [ALPHA[j]]\n",
        "                else:\n",
        "                  testdict[i[j]] += [ALPHA[j]]\n",
        "                #testdict[str(i[j])] = ALPHA[j]\n",
        "                #automata.edge(str(name), str(i[j]) ,label = ALPHA[j])\n",
        "        for i in testdict:   \n",
        "          labellascii = [ord(j) for j in testdict[i]]\n",
        "          groups = [list(labell) for labell in mit.consecutive_groups(labellascii)]\n",
        "          labeltext = \"\"\n",
        "          for j in groups:   \n",
        "            if len(j) != 1:\n",
        "              labeltext += \"[\" + chr(j[0]) + \"-\" + chr(j[-1]) + \"]\"\n",
        "            else:\n",
        "              labeltext += chr(j[0])\n",
        "          automata.edge(str(name), str(i) ,label = labeltext)\n",
        "        state +=1\n",
        "        name +=1\n",
        "    return automata"
      ],
      "metadata": {
        "id": "owcVLov229aF"
      },
      "execution_count": 48,
      "outputs": []
    },
    {
      "cell_type": "markdown",
      "source": [
        "Veamos los autómatas para la especificación de estos tokens:\n",
        "\n",
        "for -> for|FOR"
      ],
      "metadata": {
        "id": "-qeytIxCV7hQ"
      }
    },
    {
      "cell_type": "code",
      "source": [
        "DFA,ac=pfToNFA(postFix('for|FOR')).NFA_to_DFA()\n",
        "m=DFAtoMatrix( DFA,ac)\n",
        "DrawDFA2(m, ac, [chr(i) for i in range(256)])"
      ],
      "metadata": {
        "id": "a_78Fv6lE37Q",
        "colab": {
          "base_uri": "https://localhost:8080/",
          "height": 467
        },
        "outputId": "828608b2-674f-4a65-f5b4-3dc66ceef356"
      },
      "execution_count": 49,
      "outputs": [
        {
          "output_type": "execute_result",
          "data": {
            "text/plain": [
              "<graphviz.dot.Digraph at 0x7f5626bc9910>"
            ],
            "image/svg+xml": "<?xml version=\"1.0\" encoding=\"UTF-8\" standalone=\"no\"?>\n<!DOCTYPE svg PUBLIC \"-//W3C//DTD SVG 1.1//EN\"\n \"http://www.w3.org/Graphics/SVG/1.1/DTD/svg11.dtd\">\n<!-- Generated by graphviz version 2.40.1 (20161225.0304)\n -->\n<!-- Title: %3 Pages: 1 -->\n<svg width=\"126pt\" height=\"335pt\"\n viewBox=\"0.00 0.00 125.60 335.39\" xmlns=\"http://www.w3.org/2000/svg\" xmlns:xlink=\"http://www.w3.org/1999/xlink\">\n<g id=\"graph0\" class=\"graph\" transform=\"scale(1 1) rotate(0) translate(4 331.3852)\">\n<title>%3</title>\n<polygon fill=\"#ffffff\" stroke=\"transparent\" points=\"-4,4 -4,-331.3852 121.5963,-331.3852 121.5963,4 -4,4\"/>\n<!-- 0 -->\n<g id=\"node1\" class=\"node\">\n<title>0</title>\n<ellipse fill=\"none\" stroke=\"#000000\" cx=\"56.7982\" cy=\"-306.5871\" rx=\"20.5982\" ry=\"20.5982\"/>\n<text text-anchor=\"middle\" x=\"56.7982\" y=\"-302.8871\" font-family=\"Times,serif\" font-size=\"14.00\" fill=\"#000000\">q0</text>\n</g>\n<!-- 1 -->\n<g id=\"node2\" class=\"node\">\n<title>1</title>\n<ellipse fill=\"none\" stroke=\"#000000\" cx=\"26.7982\" cy=\"-213.9908\" rx=\"20.5982\" ry=\"20.5982\"/>\n<text text-anchor=\"middle\" x=\"26.7982\" y=\"-210.2908\" font-family=\"Times,serif\" font-size=\"14.00\" fill=\"#000000\">q1</text>\n</g>\n<!-- 0&#45;&gt;1 -->\n<g id=\"edge1\" class=\"edge\">\n<title>0&#45;&gt;1</title>\n<path fill=\"none\" stroke=\"#000000\" d=\"M50.2886,-286.4951C46.2394,-273.9971 40.9594,-257.7001 36.4311,-243.7233\"/>\n<polygon fill=\"#000000\" stroke=\"#000000\" points=\"39.7068,-242.478 33.295,-234.0436 33.0476,-244.6355 39.7068,-242.478\"/>\n<text text-anchor=\"middle\" x=\"48.2982\" y=\"-256.5889\" font-family=\"Times,serif\" font-size=\"14.00\" fill=\"#000000\">F</text>\n</g>\n<!-- 2 -->\n<g id=\"node3\" class=\"node\">\n<title>2</title>\n<ellipse fill=\"none\" stroke=\"#000000\" cx=\"86.7982\" cy=\"-213.9908\" rx=\"20.5982\" ry=\"20.5982\"/>\n<text text-anchor=\"middle\" x=\"86.7982\" y=\"-210.2908\" font-family=\"Times,serif\" font-size=\"14.00\" fill=\"#000000\">q2</text>\n</g>\n<!-- 0&#45;&gt;2 -->\n<g id=\"edge2\" class=\"edge\">\n<title>0&#45;&gt;2</title>\n<path fill=\"none\" stroke=\"#000000\" d=\"M63.3077,-286.4951C67.3569,-273.9971 72.6369,-257.7001 77.1652,-243.7233\"/>\n<polygon fill=\"#000000\" stroke=\"#000000\" points=\"80.5487,-244.6355 80.3013,-234.0436 73.8895,-242.478 80.5487,-244.6355\"/>\n<text text-anchor=\"middle\" x=\"76.2982\" y=\"-256.5889\" font-family=\"Times,serif\" font-size=\"14.00\" fill=\"#000000\">f</text>\n</g>\n<!-- 3 -->\n<g id=\"node4\" class=\"node\">\n<title>3</title>\n<ellipse fill=\"none\" stroke=\"#000000\" cx=\"26.7982\" cy=\"-121.3945\" rx=\"20.5982\" ry=\"20.5982\"/>\n<text text-anchor=\"middle\" x=\"26.7982\" y=\"-117.6945\" font-family=\"Times,serif\" font-size=\"14.00\" fill=\"#000000\">q3</text>\n</g>\n<!-- 1&#45;&gt;3 -->\n<g id=\"edge3\" class=\"edge\">\n<title>1&#45;&gt;3</title>\n<path fill=\"none\" stroke=\"#000000\" d=\"M26.7982,-192.9792C26.7982,-181.0218 26.7982,-165.8183 26.7982,-152.5008\"/>\n<polygon fill=\"#000000\" stroke=\"#000000\" points=\"30.2983,-152.3228 26.7982,-142.3228 23.2983,-152.3229 30.2983,-152.3228\"/>\n<text text-anchor=\"middle\" x=\"32.2982\" y=\"-163.9926\" font-family=\"Times,serif\" font-size=\"14.00\" fill=\"#000000\">O</text>\n</g>\n<!-- 4 -->\n<g id=\"node5\" class=\"node\">\n<title>4</title>\n<ellipse fill=\"none\" stroke=\"#000000\" cx=\"90.7982\" cy=\"-121.3945\" rx=\"20.5982\" ry=\"20.5982\"/>\n<text text-anchor=\"middle\" x=\"90.7982\" y=\"-117.6945\" font-family=\"Times,serif\" font-size=\"14.00\" fill=\"#000000\">q4</text>\n</g>\n<!-- 2&#45;&gt;4 -->\n<g id=\"edge4\" class=\"edge\">\n<title>2&#45;&gt;4</title>\n<path fill=\"none\" stroke=\"#000000\" d=\"M87.7058,-192.9792C88.2224,-181.0218 88.8791,-165.8183 89.4544,-152.5008\"/>\n<polygon fill=\"#000000\" stroke=\"#000000\" points=\"92.9591,-152.4646 89.8941,-142.3228 85.9657,-152.1624 92.9591,-152.4646\"/>\n<text text-anchor=\"middle\" x=\"93.7982\" y=\"-163.9926\" font-family=\"Times,serif\" font-size=\"14.00\" fill=\"#000000\">o</text>\n</g>\n<!-- 5 -->\n<g id=\"node6\" class=\"node\">\n<title>5</title>\n<ellipse fill=\"none\" stroke=\"#000000\" cx=\"24.7982\" cy=\"-24.7982\" rx=\"20.6302\" ry=\"20.6302\"/>\n<ellipse fill=\"none\" stroke=\"#000000\" cx=\"24.7982\" cy=\"-24.7982\" rx=\"24.5979\" ry=\"24.5979\"/>\n<text text-anchor=\"middle\" x=\"24.7982\" y=\"-21.0982\" font-family=\"Times,serif\" font-size=\"14.00\" fill=\"#000000\">q5</text>\n</g>\n<!-- 3&#45;&gt;5 -->\n<g id=\"edge5\" class=\"edge\">\n<title>3&#45;&gt;5</title>\n<path fill=\"none\" stroke=\"#000000\" d=\"M26.3642,-100.4345C26.1188,-88.5844 25.8057,-73.4604 25.524,-59.8555\"/>\n<polygon fill=\"#000000\" stroke=\"#000000\" points=\"29.0227,-59.7526 25.3164,-49.8272 22.0242,-59.8976 29.0227,-59.7526\"/>\n<text text-anchor=\"middle\" x=\"31.7982\" y=\"-71.3963\" font-family=\"Times,serif\" font-size=\"14.00\" fill=\"#000000\">R</text>\n</g>\n<!-- 6 -->\n<g id=\"node7\" class=\"node\">\n<title>6</title>\n<ellipse fill=\"none\" stroke=\"#000000\" cx=\"92.7982\" cy=\"-24.7982\" rx=\"20.6302\" ry=\"20.6302\"/>\n<ellipse fill=\"none\" stroke=\"#000000\" cx=\"92.7982\" cy=\"-24.7982\" rx=\"24.5979\" ry=\"24.5979\"/>\n<text text-anchor=\"middle\" x=\"92.7982\" y=\"-21.0982\" font-family=\"Times,serif\" font-size=\"14.00\" fill=\"#000000\">q6</text>\n</g>\n<!-- 4&#45;&gt;6 -->\n<g id=\"edge6\" class=\"edge\">\n<title>4&#45;&gt;6</title>\n<path fill=\"none\" stroke=\"#000000\" d=\"M91.2321,-100.4345C91.4775,-88.5844 91.7906,-73.4604 92.0723,-59.8555\"/>\n<polygon fill=\"#000000\" stroke=\"#000000\" points=\"95.5721,-59.8976 92.2799,-49.8272 88.5736,-59.7526 95.5721,-59.8976\"/>\n<text text-anchor=\"middle\" x=\"94.2982\" y=\"-71.3963\" font-family=\"Times,serif\" font-size=\"14.00\" fill=\"#000000\">r</text>\n</g>\n</g>\n</svg>\n"
          },
          "metadata": {},
          "execution_count": 49
        }
      ]
    },
    {
      "cell_type": "markdown",
      "source": [
        "identifier -> [_a-z][_a-z0-9]*"
      ],
      "metadata": {
        "id": "lQhBXgpVXnn6"
      }
    },
    {
      "cell_type": "code",
      "source": [
        "DFA,ac=pfToNFA(postFix('[_a-z][_a-z0-9]*')).NFA_to_DFA()\n",
        "m=DFAtoMatrix( DFA,ac)\n",
        "DrawDFA2(m, ac, [chr(i) for i in range(256)])"
      ],
      "metadata": {
        "colab": {
          "base_uri": "https://localhost:8080/",
          "height": 355
        },
        "id": "cXq4AcVqXnAC",
        "outputId": "83f1dc5d-460d-42ad-b6ad-afe0e86b958d"
      },
      "execution_count": 50,
      "outputs": [
        {
          "output_type": "execute_result",
          "data": {
            "text/plain": [
              "<graphviz.dot.Digraph at 0x7f5626bd7150>"
            ],
            "image/svg+xml": "<?xml version=\"1.0\" encoding=\"UTF-8\" standalone=\"no\"?>\n<!DOCTYPE svg PUBLIC \"-//W3C//DTD SVG 1.1//EN\"\n \"http://www.w3.org/Graphics/SVG/1.1/DTD/svg11.dtd\">\n<!-- Generated by graphviz version 2.40.1 (20161225.0304)\n -->\n<!-- Title: %3 Pages: 1 -->\n<svg width=\"138pt\" height=\"251pt\"\n viewBox=\"0.00 0.00 137.60 250.79\" xmlns=\"http://www.w3.org/2000/svg\" xmlns:xlink=\"http://www.w3.org/1999/xlink\">\n<g id=\"graph0\" class=\"graph\" transform=\"scale(1 1) rotate(0) translate(4 246.7889)\">\n<title>%3</title>\n<polygon fill=\"#ffffff\" stroke=\"transparent\" points=\"-4,4 -4,-246.7889 133.5963,-246.7889 133.5963,4 -4,4\"/>\n<!-- 0 -->\n<g id=\"node1\" class=\"node\">\n<title>0</title>\n<ellipse fill=\"none\" stroke=\"#000000\" cx=\"24.7982\" cy=\"-221.9908\" rx=\"20.5982\" ry=\"20.5982\"/>\n<text text-anchor=\"middle\" x=\"24.7982\" y=\"-218.2908\" font-family=\"Times,serif\" font-size=\"14.00\" fill=\"#000000\">q0</text>\n</g>\n<!-- 1 -->\n<g id=\"node2\" class=\"node\">\n<title>1</title>\n<ellipse fill=\"none\" stroke=\"#000000\" cx=\"24.7982\" cy=\"-125.3945\" rx=\"20.6302\" ry=\"20.6302\"/>\n<ellipse fill=\"none\" stroke=\"#000000\" cx=\"24.7982\" cy=\"-125.3945\" rx=\"24.5979\" ry=\"24.5979\"/>\n<text text-anchor=\"middle\" x=\"24.7982\" y=\"-121.6945\" font-family=\"Times,serif\" font-size=\"14.00\" fill=\"#000000\">q1</text>\n</g>\n<!-- 0&#45;&gt;1 -->\n<g id=\"edge1\" class=\"edge\">\n<title>0&#45;&gt;1</title>\n<path fill=\"none\" stroke=\"#000000\" d=\"M24.7982,-201.0308C24.7982,-189.1807 24.7982,-174.0568 24.7982,-160.4518\"/>\n<polygon fill=\"#000000\" stroke=\"#000000\" points=\"28.2983,-160.4235 24.7982,-150.4235 21.2983,-160.4236 28.2983,-160.4235\"/>\n<text text-anchor=\"middle\" x=\"41.7982\" y=\"-171.9926\" font-family=\"Times,serif\" font-size=\"14.00\" fill=\"#000000\">_[a&#45;z]</text>\n</g>\n<!-- 2 -->\n<g id=\"node3\" class=\"node\">\n<title>2</title>\n<ellipse fill=\"none\" stroke=\"#000000\" cx=\"24.7982\" cy=\"-24.7982\" rx=\"20.6302\" ry=\"20.6302\"/>\n<ellipse fill=\"none\" stroke=\"#000000\" cx=\"24.7982\" cy=\"-24.7982\" rx=\"24.5979\" ry=\"24.5979\"/>\n<text text-anchor=\"middle\" x=\"24.7982\" y=\"-21.0982\" font-family=\"Times,serif\" font-size=\"14.00\" fill=\"#000000\">q2</text>\n</g>\n<!-- 1&#45;&gt;2 -->\n<g id=\"edge2\" class=\"edge\">\n<title>1&#45;&gt;2</title>\n<path fill=\"none\" stroke=\"#000000\" d=\"M24.7982,-100.528C24.7982,-88.316 24.7982,-73.3898 24.7982,-60.027\"/>\n<polygon fill=\"#000000\" stroke=\"#000000\" points=\"28.2983,-59.7272 24.7982,-49.7272 21.2983,-59.7273 28.2983,-59.7272\"/>\n<text text-anchor=\"middle\" x=\"55.7982\" y=\"-71.3963\" font-family=\"Times,serif\" font-size=\"14.00\" fill=\"#000000\">[0&#45;9]_[a&#45;z]</text>\n</g>\n<!-- 2&#45;&gt;2 -->\n<g id=\"edge3\" class=\"edge\">\n<title>2&#45;&gt;2</title>\n<path fill=\"none\" stroke=\"#000000\" d=\"M48.1303,-34.0267C58.5686,-34.9056 67.5963,-31.8294 67.5963,-24.7982 67.5963,-20.2938 63.8913,-17.4125 58.484,-16.1545\"/>\n<polygon fill=\"#000000\" stroke=\"#000000\" points=\"58.3118,-12.6392 48.1303,-15.5696 57.9169,-19.6281 58.3118,-12.6392\"/>\n<text text-anchor=\"middle\" x=\"98.5963\" y=\"-21.0982\" font-family=\"Times,serif\" font-size=\"14.00\" fill=\"#000000\">[0&#45;9]_[a&#45;z]</text>\n</g>\n</g>\n</svg>\n"
          },
          "metadata": {},
          "execution_count": 50
        }
      ]
    },
    {
      "cell_type": "markdown",
      "source": [
        "digit -> [0-9][0-9]*"
      ],
      "metadata": {
        "id": "SGKb4eW5X2AC"
      }
    },
    {
      "cell_type": "code",
      "source": [
        "DFA,ac=pfToNFA(postFix('[0-9][0-9]*')).NFA_to_DFA()\n",
        "m=DFAtoMatrix( DFA,ac)\n",
        "DrawDFA2(m, ac, [chr(i) for i in range(256)])"
      ],
      "metadata": {
        "colab": {
          "base_uri": "https://localhost:8080/",
          "height": 355
        },
        "id": "U_byQP19X2RJ",
        "outputId": "60565b02-c1be-4ccf-8f2c-3e52e2d488c6"
      },
      "execution_count": 51,
      "outputs": [
        {
          "output_type": "execute_result",
          "data": {
            "text/plain": [
              "<graphviz.dot.Digraph at 0x7f56274761d0>"
            ],
            "image/svg+xml": "<?xml version=\"1.0\" encoding=\"UTF-8\" standalone=\"no\"?>\n<!DOCTYPE svg PUBLIC \"-//W3C//DTD SVG 1.1//EN\"\n \"http://www.w3.org/Graphics/SVG/1.1/DTD/svg11.dtd\">\n<!-- Generated by graphviz version 2.40.1 (20161225.0304)\n -->\n<!-- Title: %3 Pages: 1 -->\n<svg width=\"105pt\" height=\"251pt\"\n viewBox=\"0.00 0.00 104.60 250.79\" xmlns=\"http://www.w3.org/2000/svg\" xmlns:xlink=\"http://www.w3.org/1999/xlink\">\n<g id=\"graph0\" class=\"graph\" transform=\"scale(1 1) rotate(0) translate(4 246.7889)\">\n<title>%3</title>\n<polygon fill=\"#ffffff\" stroke=\"transparent\" points=\"-4,4 -4,-246.7889 100.5963,-246.7889 100.5963,4 -4,4\"/>\n<!-- 0 -->\n<g id=\"node1\" class=\"node\">\n<title>0</title>\n<ellipse fill=\"none\" stroke=\"#000000\" cx=\"24.7982\" cy=\"-221.9908\" rx=\"20.5982\" ry=\"20.5982\"/>\n<text text-anchor=\"middle\" x=\"24.7982\" y=\"-218.2908\" font-family=\"Times,serif\" font-size=\"14.00\" fill=\"#000000\">q0</text>\n</g>\n<!-- 1 -->\n<g id=\"node2\" class=\"node\">\n<title>1</title>\n<ellipse fill=\"none\" stroke=\"#000000\" cx=\"24.7982\" cy=\"-125.3945\" rx=\"20.6302\" ry=\"20.6302\"/>\n<ellipse fill=\"none\" stroke=\"#000000\" cx=\"24.7982\" cy=\"-125.3945\" rx=\"24.5979\" ry=\"24.5979\"/>\n<text text-anchor=\"middle\" x=\"24.7982\" y=\"-121.6945\" font-family=\"Times,serif\" font-size=\"14.00\" fill=\"#000000\">q1</text>\n</g>\n<!-- 0&#45;&gt;1 -->\n<g id=\"edge1\" class=\"edge\">\n<title>0&#45;&gt;1</title>\n<path fill=\"none\" stroke=\"#000000\" d=\"M24.7982,-201.0308C24.7982,-189.1807 24.7982,-174.0568 24.7982,-160.4518\"/>\n<polygon fill=\"#000000\" stroke=\"#000000\" points=\"28.2983,-160.4235 24.7982,-150.4235 21.2983,-160.4236 28.2983,-160.4235\"/>\n<text text-anchor=\"middle\" x=\"39.2982\" y=\"-171.9926\" font-family=\"Times,serif\" font-size=\"14.00\" fill=\"#000000\">[0&#45;9]</text>\n</g>\n<!-- 2 -->\n<g id=\"node3\" class=\"node\">\n<title>2</title>\n<ellipse fill=\"none\" stroke=\"#000000\" cx=\"24.7982\" cy=\"-24.7982\" rx=\"20.6302\" ry=\"20.6302\"/>\n<ellipse fill=\"none\" stroke=\"#000000\" cx=\"24.7982\" cy=\"-24.7982\" rx=\"24.5979\" ry=\"24.5979\"/>\n<text text-anchor=\"middle\" x=\"24.7982\" y=\"-21.0982\" font-family=\"Times,serif\" font-size=\"14.00\" fill=\"#000000\">q2</text>\n</g>\n<!-- 1&#45;&gt;2 -->\n<g id=\"edge2\" class=\"edge\">\n<title>1&#45;&gt;2</title>\n<path fill=\"none\" stroke=\"#000000\" d=\"M24.7982,-100.528C24.7982,-88.316 24.7982,-73.3898 24.7982,-60.027\"/>\n<polygon fill=\"#000000\" stroke=\"#000000\" points=\"28.2983,-59.7272 24.7982,-49.7272 21.2983,-59.7273 28.2983,-59.7272\"/>\n<text text-anchor=\"middle\" x=\"39.2982\" y=\"-71.3963\" font-family=\"Times,serif\" font-size=\"14.00\" fill=\"#000000\">[0&#45;9]</text>\n</g>\n<!-- 2&#45;&gt;2 -->\n<g id=\"edge3\" class=\"edge\">\n<title>2&#45;&gt;2</title>\n<path fill=\"none\" stroke=\"#000000\" d=\"M48.1303,-34.0267C58.5686,-34.9056 67.5963,-31.8294 67.5963,-24.7982 67.5963,-20.2938 63.8913,-17.4125 58.484,-16.1545\"/>\n<polygon fill=\"#000000\" stroke=\"#000000\" points=\"58.3118,-12.6392 48.1303,-15.5696 57.9169,-19.6281 58.3118,-12.6392\"/>\n<text text-anchor=\"middle\" x=\"82.0963\" y=\"-21.0982\" font-family=\"Times,serif\" font-size=\"14.00\" fill=\"#000000\">[0&#45;9]</text>\n</g>\n</g>\n</svg>\n"
          },
          "metadata": {},
          "execution_count": 51
        }
      ]
    },
    {
      "cell_type": "markdown",
      "source": [
        "space -> [ ]"
      ],
      "metadata": {
        "id": "S8eEs0b_YAWZ"
      }
    },
    {
      "cell_type": "code",
      "source": [
        "DFA,ac=pfToNFA(postFix('[ ]')).NFA_to_DFA()\n",
        "m=DFAtoMatrix( DFA,ac)\n",
        "DrawDFA2(m, ac, [chr(i) for i in range(256)])"
      ],
      "metadata": {
        "colab": {
          "base_uri": "https://localhost:8080/",
          "height": 221
        },
        "id": "gu-tLbgmYAnt",
        "outputId": "31fd653c-98f8-4eed-d20b-c5fb08addfef"
      },
      "execution_count": 52,
      "outputs": [
        {
          "output_type": "execute_result",
          "data": {
            "text/plain": [
              "<graphviz.dot.Digraph at 0x7f5627476290>"
            ],
            "image/svg+xml": "<?xml version=\"1.0\" encoding=\"UTF-8\" standalone=\"no\"?>\n<!DOCTYPE svg PUBLIC \"-//W3C//DTD SVG 1.1//EN\"\n \"http://www.w3.org/Graphics/SVG/1.1/DTD/svg11.dtd\">\n<!-- Generated by graphviz version 2.40.1 (20161225.0304)\n -->\n<!-- Title: %3 Pages: 1 -->\n<svg width=\"58pt\" height=\"150pt\"\n viewBox=\"0.00 0.00 57.60 150.19\" xmlns=\"http://www.w3.org/2000/svg\" xmlns:xlink=\"http://www.w3.org/1999/xlink\">\n<g id=\"graph0\" class=\"graph\" transform=\"scale(1 1) rotate(0) translate(4 146.1926)\">\n<title>%3</title>\n<polygon fill=\"#ffffff\" stroke=\"transparent\" points=\"-4,4 -4,-146.1926 53.5963,-146.1926 53.5963,4 -4,4\"/>\n<!-- 0 -->\n<g id=\"node1\" class=\"node\">\n<title>0</title>\n<ellipse fill=\"none\" stroke=\"#000000\" cx=\"24.7982\" cy=\"-121.3945\" rx=\"20.5982\" ry=\"20.5982\"/>\n<text text-anchor=\"middle\" x=\"24.7982\" y=\"-117.6945\" font-family=\"Times,serif\" font-size=\"14.00\" fill=\"#000000\">q0</text>\n</g>\n<!-- 1 -->\n<g id=\"node2\" class=\"node\">\n<title>1</title>\n<ellipse fill=\"none\" stroke=\"#000000\" cx=\"24.7982\" cy=\"-24.7982\" rx=\"20.6302\" ry=\"20.6302\"/>\n<ellipse fill=\"none\" stroke=\"#000000\" cx=\"24.7982\" cy=\"-24.7982\" rx=\"24.5979\" ry=\"24.5979\"/>\n<text text-anchor=\"middle\" x=\"24.7982\" y=\"-21.0982\" font-family=\"Times,serif\" font-size=\"14.00\" fill=\"#000000\">q1</text>\n</g>\n<!-- 0&#45;&gt;1 -->\n<g id=\"edge1\" class=\"edge\">\n<title>0&#45;&gt;1</title>\n<path fill=\"none\" stroke=\"#000000\" d=\"M24.7982,-100.4345C24.7982,-88.5844 24.7982,-73.4604 24.7982,-59.8555\"/>\n<polygon fill=\"#000000\" stroke=\"#000000\" points=\"28.2983,-59.8272 24.7982,-49.8272 21.2983,-59.8273 28.2983,-59.8272\"/>\n<text text-anchor=\"middle\" x=\"26.7982\" y=\"-71.3963\" font-family=\"Times,serif\" font-size=\"14.00\" fill=\"#000000\"> </text>\n</g>\n</g>\n</svg>\n"
          },
          "metadata": {},
          "execution_count": 52
        }
      ]
    },
    {
      "cell_type": "markdown",
      "source": [
        "equal -> ="
      ],
      "metadata": {
        "id": "DCtElYGYYCoC"
      }
    },
    {
      "cell_type": "code",
      "source": [
        "DFA,ac=pfToNFA(postFix('=')).NFA_to_DFA()\n",
        "m=DFAtoMatrix( DFA,ac)\n",
        "DrawDFA2(m, ac, [chr(i) for i in range(256)])"
      ],
      "metadata": {
        "colab": {
          "base_uri": "https://localhost:8080/",
          "height": 221
        },
        "id": "3JScmJ-FYDAo",
        "outputId": "2b33302b-090e-4af9-cbad-01b6ab6f5d9a"
      },
      "execution_count": 53,
      "outputs": [
        {
          "output_type": "execute_result",
          "data": {
            "text/plain": [
              "<graphviz.dot.Digraph at 0x7f5626bd48d0>"
            ],
            "image/svg+xml": "<?xml version=\"1.0\" encoding=\"UTF-8\" standalone=\"no\"?>\n<!DOCTYPE svg PUBLIC \"-//W3C//DTD SVG 1.1//EN\"\n \"http://www.w3.org/Graphics/SVG/1.1/DTD/svg11.dtd\">\n<!-- Generated by graphviz version 2.40.1 (20161225.0304)\n -->\n<!-- Title: %3 Pages: 1 -->\n<svg width=\"58pt\" height=\"150pt\"\n viewBox=\"0.00 0.00 57.60 150.19\" xmlns=\"http://www.w3.org/2000/svg\" xmlns:xlink=\"http://www.w3.org/1999/xlink\">\n<g id=\"graph0\" class=\"graph\" transform=\"scale(1 1) rotate(0) translate(4 146.1926)\">\n<title>%3</title>\n<polygon fill=\"#ffffff\" stroke=\"transparent\" points=\"-4,4 -4,-146.1926 53.5963,-146.1926 53.5963,4 -4,4\"/>\n<!-- 0 -->\n<g id=\"node1\" class=\"node\">\n<title>0</title>\n<ellipse fill=\"none\" stroke=\"#000000\" cx=\"24.7982\" cy=\"-121.3945\" rx=\"20.5982\" ry=\"20.5982\"/>\n<text text-anchor=\"middle\" x=\"24.7982\" y=\"-117.6945\" font-family=\"Times,serif\" font-size=\"14.00\" fill=\"#000000\">q0</text>\n</g>\n<!-- 1 -->\n<g id=\"node2\" class=\"node\">\n<title>1</title>\n<ellipse fill=\"none\" stroke=\"#000000\" cx=\"24.7982\" cy=\"-24.7982\" rx=\"20.6302\" ry=\"20.6302\"/>\n<ellipse fill=\"none\" stroke=\"#000000\" cx=\"24.7982\" cy=\"-24.7982\" rx=\"24.5979\" ry=\"24.5979\"/>\n<text text-anchor=\"middle\" x=\"24.7982\" y=\"-21.0982\" font-family=\"Times,serif\" font-size=\"14.00\" fill=\"#000000\">q1</text>\n</g>\n<!-- 0&#45;&gt;1 -->\n<g id=\"edge1\" class=\"edge\">\n<title>0&#45;&gt;1</title>\n<path fill=\"none\" stroke=\"#000000\" d=\"M24.7982,-100.4345C24.7982,-88.5844 24.7982,-73.4604 24.7982,-59.8555\"/>\n<polygon fill=\"#000000\" stroke=\"#000000\" points=\"28.2983,-59.8272 24.7982,-49.8272 21.2983,-59.8273 28.2983,-59.8272\"/>\n<text text-anchor=\"middle\" x=\"29.2982\" y=\"-71.3963\" font-family=\"Times,serif\" font-size=\"14.00\" fill=\"#000000\">=</text>\n</g>\n</g>\n</svg>\n"
          },
          "metadata": {},
          "execution_count": 53
        }
      ]
    },
    {
      "cell_type": "markdown",
      "source": [
        "# Parte B\n",
        "\n",
        "Utilizando el generador de scanners construido en el punto anterior, construya un parser de JSON.\n",
        "\n",
        "Para este parser reporte adicionalmente:\n",
        "\n",
        "1. La especificación informal de los tokens.\n",
        "2. La especificación formal de los tokens.\n",
        "3. Los grafos de los Autómatas Finitos Determinísticos utilizados para la identificación de\n",
        "cada uno de los tokens."
      ],
      "metadata": {
        "id": "K3epdjAT1pG0"
      }
    },
    {
      "cell_type": "markdown",
      "source": [
        "#Especificacion informal de los tokens\n",
        "\n",
        "Los Json tienen 6 tipos de datos, a saber:\n",
        "\n",
        "* **STRING**: Un string se representa como una secuencia de 0 o mas caracteres Unicode, encerrados entre doble comillas (\"\"). (Strings encerradas entre comillas simples ('') no son validas). Las string de JSON pueden contener los siguientes caracteres de control:\n",
        "\n",
        "  - \\\" – Dobles comillas\n",
        "  - \\\\ – Backslash\n",
        "  - \\/ – Slash al frente\n",
        "  - \\b – Backspace\n",
        "  - \\f – Salto de página\n",
        "  - \\n – Newline\n",
        "  - \\r – Salto de carro\n",
        "  - \\t – Tab\n",
        "  - \\u – Arrastrada por cuatro dígitos hexadecimales\n",
        "\n",
        "* **NUMBER**: Este tipo de dato sigue el formato de doble punto flotante de Javascript\n",
        "\n",
        "  - Representado en base 10 sin ceros iniciales superfluos\n",
        "  - Incluye los dígitos del 0 al 9\n",
        "  - Pueden ser números negativos\n",
        "  - Pueden ser fracionarios (ej: .5, 0.5)\n",
        "  - También puede tener un exponente de 10, precedido por e o E con un signo más o menos para indicar exponenciación positiva o negativa.\n",
        "  - Formatos Octal y Hexadecimal no estan aceptados\n",
        "  - No pueden tener un valor NaN o infinito\n",
        "\n",
        "* **OBJECT**:  Un conjunto desordenado de pares de nombre/valor insertados entre llaves ({}). Un objeto puede contener cero o más pares de nombre/valor. Varios pares de nombre/valor están separados por una coma (,).\n",
        "\n",
        "* **ARRAY**: Una colección ordenada de valores. Comienza con un corchete izquierdo ([) y termina con uno derecho (]). Sus valores están separados por una coma (,)\n",
        "\n",
        "* **BOOLEAN**: Los valores booleanos pueden ser verdaderos o falsos. Los valores booleanos no están entre comillas y se tratarán como valores de cadena.\n",
        "\n",
        "* **NULL**: Aunque técnicamente no es un tipo de valor, null es un valor especial en JSON. Cuando no hay ningún valor para asignar a una clave, se puede tratar como nula. el valor nulo no debe estar entre comillas\n",
        "\n"
      ],
      "metadata": {
        "id": "nsRypsscgwEd"
      }
    },
    {
      "cell_type": "markdown",
      "source": [
        "#Especificacion formal de los tokens\n",
        "\n",
        "Siguiendo las especificaciones mencionadas anteriormente vamos a definir un token para cada tipo de dato y adicionalmente creamos:\n",
        "* LeftBracket y RightBracket para reconocer el inicio y el final de un objeto\n",
        "* LeftParenthesis y RightParenthsis para marcar el inicio y final de un arreglo \n",
        "* Asign que corresponde al caracter ':' que debe estar en la definición de un miembro de un objeto\n",
        "* Comma para separar cada miembro de un objeto o arreglo\n",
        "* Separator son los espacios en blanco o identados que se deben ignorar en el parseo\n",
        "\n",
        "De esta manera describimos una expresión regular que pasamos como entrada a nuestro scanner en el archivo de texto Json.txt que podemos ver en la siguiente celda de codigo."
      ],
      "metadata": {
        "id": "82VouLhJsXXy"
      }
    },
    {
      "cell_type": "code",
      "source": [
        "# Especificar tokens\n",
        "!cat Json.txt"
      ],
      "metadata": {
        "id": "9GKF_oyhgNFl",
        "colab": {
          "base_uri": "https://localhost:8080/"
        },
        "outputId": "1c07d27a-4846-41ba-a6f3-33fa9702be2a"
      },
      "execution_count": 54,
      "outputs": [
        {
          "output_type": "stream",
          "name": "stdout",
          "text": [
            "String -> \"([ -!#-ÿ]|[\\]\")*\"\n",
            "Number -> ([0-9]+(.[0-9]*)?|.[0-9]+)(e-?[0-9]+)?\n",
            "Boolean -> true|false\n",
            "Null -> null\n",
            "Separator -> ([ ]|[\t])+\n",
            "Asign -> :\n",
            "LeftBracket -> {\n",
            "RightBracket -> }\n",
            "LeftParenthesis -> \\[\n",
            "RightParenthesis -> ]\n",
            "Comma -> ,"
          ]
        }
      ]
    },
    {
      "cell_type": "markdown",
      "source": [
        "# Los grafos de los Autómatas Finitos Determinísticos utilizados para la identificación de cada uno de los tokens.\n",
        "\n",
        "Utilizando el graficador automático de Autómatas Finitos Determinísticos es posible generar estos grafos:\n"
      ],
      "metadata": {
        "id": "sGci1hTQY1a7"
      }
    },
    {
      "cell_type": "markdown",
      "source": [
        "Number -> ([0-9]+(.[0-9]*)?|.[0-9]+)(e-?[0-9]+)?"
      ],
      "metadata": {
        "id": "iLG2voRpbg9m"
      }
    },
    {
      "cell_type": "code",
      "source": [
        "DFA,ac=pfToNFA(postFix('([0-9]+(.[0-9]*)?|.[0-9]+)(e-?[0-9]+)?')).NFA_to_DFA()\n",
        "m=DFAtoMatrix( DFA,ac)\n",
        "DrawDFA2(m, ac, [chr(i) for i in range(256)])"
      ],
      "metadata": {
        "colab": {
          "base_uri": "https://localhost:8080/",
          "height": 917
        },
        "id": "Z6Ld-Am5ZQ2j",
        "outputId": "9108e0df-7a7a-42f2-bd07-48e177f70d00"
      },
      "execution_count": 55,
      "outputs": [
        {
          "output_type": "execute_result",
          "data": {
            "text/plain": [
              "<graphviz.dot.Digraph at 0x7f5626bdd990>"
            ],
            "image/svg+xml": "<?xml version=\"1.0\" encoding=\"UTF-8\" standalone=\"no\"?>\n<!DOCTYPE svg PUBLIC \"-//W3C//DTD SVG 1.1//EN\"\n \"http://www.w3.org/Graphics/SVG/1.1/DTD/svg11.dtd\">\n<!-- Generated by graphviz version 2.40.1 (20161225.0304)\n -->\n<!-- Title: %3 Pages: 1 -->\n<svg width=\"269pt\" height=\"672pt\"\n viewBox=\"0.00 0.00 268.80 671.77\" xmlns=\"http://www.w3.org/2000/svg\" xmlns:xlink=\"http://www.w3.org/1999/xlink\">\n<g id=\"graph0\" class=\"graph\" transform=\"scale(1 1) rotate(0) translate(4 667.7705)\">\n<title>%3</title>\n<polygon fill=\"#ffffff\" stroke=\"transparent\" points=\"-4,4 -4,-667.7705 264.7982,-667.7705 264.7982,4 -4,4\"/>\n<!-- 0 -->\n<g id=\"node1\" class=\"node\">\n<title>0</title>\n<ellipse fill=\"none\" stroke=\"#000000\" cx=\"97.7982\" cy=\"-642.9723\" rx=\"20.5982\" ry=\"20.5982\"/>\n<text text-anchor=\"middle\" x=\"97.7982\" y=\"-639.2723\" font-family=\"Times,serif\" font-size=\"14.00\" fill=\"#000000\">q0</text>\n</g>\n<!-- 2 -->\n<g id=\"node2\" class=\"node\">\n<title>2</title>\n<ellipse fill=\"none\" stroke=\"#000000\" cx=\"66.7982\" cy=\"-546.376\" rx=\"20.5982\" ry=\"20.5982\"/>\n<text text-anchor=\"middle\" x=\"66.7982\" y=\"-542.676\" font-family=\"Times,serif\" font-size=\"14.00\" fill=\"#000000\">q2</text>\n</g>\n<!-- 0&#45;&gt;2 -->\n<g id=\"edge1\" class=\"edge\">\n<title>0&#45;&gt;2</title>\n<path fill=\"none\" stroke=\"#000000\" d=\"M91.3749,-622.9575C87.0521,-609.4876 81.275,-591.4861 76.4081,-576.3207\"/>\n<polygon fill=\"#000000\" stroke=\"#000000\" points=\"79.6015,-574.8173 73.2131,-566.3652 72.9364,-576.9564 79.6015,-574.8173\"/>\n<text text-anchor=\"middle\" x=\"87.7982\" y=\"-592.9742\" font-family=\"Times,serif\" font-size=\"14.00\" fill=\"#000000\">.</text>\n</g>\n<!-- 1 -->\n<g id=\"node3\" class=\"node\">\n<title>1</title>\n<ellipse fill=\"none\" stroke=\"#000000\" cx=\"136.7982\" cy=\"-546.376\" rx=\"20.6302\" ry=\"20.6302\"/>\n<ellipse fill=\"none\" stroke=\"#000000\" cx=\"136.7982\" cy=\"-546.376\" rx=\"24.5979\" ry=\"24.5979\"/>\n<text text-anchor=\"middle\" x=\"136.7982\" y=\"-542.676\" font-family=\"Times,serif\" font-size=\"14.00\" fill=\"#000000\">q1</text>\n</g>\n<!-- 0&#45;&gt;1 -->\n<g id=\"edge2\" class=\"edge\">\n<title>0&#45;&gt;1</title>\n<path fill=\"none\" stroke=\"#000000\" d=\"M105.6904,-623.4246C110.8392,-610.6719 117.6856,-593.7145 123.6445,-578.9553\"/>\n<polygon fill=\"#000000\" stroke=\"#000000\" points=\"126.9071,-580.2231 127.4055,-569.64 120.4162,-577.6024 126.9071,-580.2231\"/>\n<text text-anchor=\"middle\" x=\"132.2982\" y=\"-592.9742\" font-family=\"Times,serif\" font-size=\"14.00\" fill=\"#000000\">[0&#45;9]</text>\n</g>\n<!-- 5 -->\n<g id=\"node6\" class=\"node\">\n<title>5</title>\n<ellipse fill=\"none\" stroke=\"#000000\" cx=\"24.7982\" cy=\"-378.1834\" rx=\"20.6302\" ry=\"20.6302\"/>\n<ellipse fill=\"none\" stroke=\"#000000\" cx=\"24.7982\" cy=\"-378.1834\" rx=\"24.5979\" ry=\"24.5979\"/>\n<text text-anchor=\"middle\" x=\"24.7982\" y=\"-374.4834\" font-family=\"Times,serif\" font-size=\"14.00\" fill=\"#000000\">q5</text>\n</g>\n<!-- 2&#45;&gt;5 -->\n<g id=\"edge6\" class=\"edge\">\n<title>2&#45;&gt;5</title>\n<path fill=\"none\" stroke=\"#000000\" d=\"M61.732,-526.088C54.693,-497.8999 41.86,-446.5089 33.3298,-412.349\"/>\n<polygon fill=\"#000000\" stroke=\"#000000\" points=\"36.6503,-411.1997 30.8318,-402.3456 29.8589,-412.8957 36.6503,-411.1997\"/>\n<text text-anchor=\"middle\" x=\"70.2982\" y=\"-492.3779\" font-family=\"Times,serif\" font-size=\"14.00\" fill=\"#000000\">[0&#45;9]</text>\n</g>\n<!-- 1&#45;&gt;1 -->\n<g id=\"edge4\" class=\"edge\">\n<title>1&#45;&gt;1</title>\n<path fill=\"none\" stroke=\"#000000\" d=\"M160.1303,-555.6045C170.5686,-556.4834 179.5963,-553.4073 179.5963,-546.376 179.5963,-541.8716 175.8913,-538.9904 170.484,-537.7323\"/>\n<polygon fill=\"#000000\" stroke=\"#000000\" points=\"170.3118,-534.2171 160.1303,-537.1475 169.9169,-541.206 170.3118,-534.2171\"/>\n<text text-anchor=\"middle\" x=\"194.0963\" y=\"-542.676\" font-family=\"Times,serif\" font-size=\"14.00\" fill=\"#000000\">[0&#45;9]</text>\n</g>\n<!-- 3 -->\n<g id=\"node4\" class=\"node\">\n<title>3</title>\n<ellipse fill=\"none\" stroke=\"#000000\" cx=\"136.7982\" cy=\"-445.7797\" rx=\"20.6302\" ry=\"20.6302\"/>\n<ellipse fill=\"none\" stroke=\"#000000\" cx=\"136.7982\" cy=\"-445.7797\" rx=\"24.5979\" ry=\"24.5979\"/>\n<text text-anchor=\"middle\" x=\"136.7982\" y=\"-442.0797\" font-family=\"Times,serif\" font-size=\"14.00\" fill=\"#000000\">q3</text>\n</g>\n<!-- 1&#45;&gt;3 -->\n<g id=\"edge3\" class=\"edge\">\n<title>1&#45;&gt;3</title>\n<path fill=\"none\" stroke=\"#000000\" d=\"M136.7982,-521.5095C136.7982,-509.2975 136.7982,-494.3714 136.7982,-481.0086\"/>\n<polygon fill=\"#000000\" stroke=\"#000000\" points=\"140.2983,-480.7088 136.7982,-470.7088 133.2983,-480.7088 140.2983,-480.7088\"/>\n<text text-anchor=\"middle\" x=\"138.7982\" y=\"-492.3779\" font-family=\"Times,serif\" font-size=\"14.00\" fill=\"#000000\">.</text>\n</g>\n<!-- 4 -->\n<g id=\"node5\" class=\"node\">\n<title>4</title>\n<ellipse fill=\"none\" stroke=\"#000000\" cx=\"132.7982\" cy=\"-213.9908\" rx=\"20.5982\" ry=\"20.5982\"/>\n<text text-anchor=\"middle\" x=\"132.7982\" y=\"-210.2908\" font-family=\"Times,serif\" font-size=\"14.00\" fill=\"#000000\">q4</text>\n</g>\n<!-- 1&#45;&gt;4 -->\n<g id=\"edge5\" class=\"edge\">\n<title>1&#45;&gt;4</title>\n<path fill=\"none\" stroke=\"#000000\" d=\"M154.6172,-528.7039C195.6922,-485.7465 290.0055,-372.9751 242.7982,-285.7889 225.8522,-254.4918 188.6875,-234.6706 162.2532,-223.9645\"/>\n<polygon fill=\"#000000\" stroke=\"#000000\" points=\"163.3021,-220.6182 152.712,-220.3027 160.7939,-227.1534 163.3021,-220.6182\"/>\n<text text-anchor=\"middle\" x=\"257.2982\" y=\"-374.4834\" font-family=\"Times,serif\" font-size=\"14.00\" fill=\"#000000\">e</text>\n</g>\n<!-- 3&#45;&gt;4 -->\n<g id=\"edge8\" class=\"edge\">\n<title>3&#45;&gt;4</title>\n<path fill=\"none\" stroke=\"#000000\" d=\"M131.5835,-421.4084C125.5151,-390.0609 116.804,-333.9159 120.7982,-285.7889 121.9251,-272.2104 124.2311,-257.3347 126.5233,-244.6627\"/>\n<polygon fill=\"#000000\" stroke=\"#000000\" points=\"130.0045,-245.0889 128.4192,-234.6133 123.1259,-243.7911 130.0045,-245.0889\"/>\n<text text-anchor=\"middle\" x=\"124.2982\" y=\"-306.8871\" font-family=\"Times,serif\" font-size=\"14.00\" fill=\"#000000\">e</text>\n</g>\n<!-- 6 -->\n<g id=\"node7\" class=\"node\">\n<title>6</title>\n<ellipse fill=\"none\" stroke=\"#000000\" cx=\"161.7982\" cy=\"-310.5871\" rx=\"20.6302\" ry=\"20.6302\"/>\n<ellipse fill=\"none\" stroke=\"#000000\" cx=\"161.7982\" cy=\"-310.5871\" rx=\"24.5979\" ry=\"24.5979\"/>\n<text text-anchor=\"middle\" x=\"161.7982\" y=\"-306.8871\" font-family=\"Times,serif\" font-size=\"14.00\" fill=\"#000000\">q6</text>\n</g>\n<!-- 3&#45;&gt;6 -->\n<g id=\"edge7\" class=\"edge\">\n<title>3&#45;&gt;6</title>\n<path fill=\"none\" stroke=\"#000000\" d=\"M141.3255,-421.2973C145.2477,-400.0869 150.9674,-369.1564 155.3648,-345.3766\"/>\n<polygon fill=\"#000000\" stroke=\"#000000\" points=\"158.8432,-345.8139 157.22,-335.3442 151.9599,-344.541 158.8432,-345.8139\"/>\n<text text-anchor=\"middle\" x=\"167.2982\" y=\"-374.4834\" font-family=\"Times,serif\" font-size=\"14.00\" fill=\"#000000\">[0&#45;9]</text>\n</g>\n<!-- 8 -->\n<g id=\"node8\" class=\"node\">\n<title>8</title>\n<ellipse fill=\"none\" stroke=\"#000000\" cx=\"103.7982\" cy=\"-121.3945\" rx=\"20.5982\" ry=\"20.5982\"/>\n<text text-anchor=\"middle\" x=\"103.7982\" y=\"-117.6945\" font-family=\"Times,serif\" font-size=\"14.00\" fill=\"#000000\">q8</text>\n</g>\n<!-- 4&#45;&gt;8 -->\n<g id=\"edge9\" class=\"edge\">\n<title>4&#45;&gt;8</title>\n<path fill=\"none\" stroke=\"#000000\" d=\"M126.5056,-193.8988C122.5914,-181.4007 117.4874,-165.1038 113.11,-151.127\"/>\n<polygon fill=\"#000000\" stroke=\"#000000\" points=\"116.4073,-149.9441 110.0784,-141.4473 109.7272,-152.0363 116.4073,-149.9441\"/>\n<text text-anchor=\"middle\" x=\"122.2982\" y=\"-163.9926\" font-family=\"Times,serif\" font-size=\"14.00\" fill=\"#000000\">&#45;</text>\n</g>\n<!-- 7 -->\n<g id=\"node9\" class=\"node\">\n<title>7</title>\n<ellipse fill=\"none\" stroke=\"#000000\" cx=\"132.7982\" cy=\"-24.7982\" rx=\"20.6302\" ry=\"20.6302\"/>\n<ellipse fill=\"none\" stroke=\"#000000\" cx=\"132.7982\" cy=\"-24.7982\" rx=\"24.5979\" ry=\"24.5979\"/>\n<text text-anchor=\"middle\" x=\"132.7982\" y=\"-21.0982\" font-family=\"Times,serif\" font-size=\"14.00\" fill=\"#000000\">q7</text>\n</g>\n<!-- 4&#45;&gt;7 -->\n<g id=\"edge10\" class=\"edge\">\n<title>4&#45;&gt;7</title>\n<path fill=\"none\" stroke=\"#000000\" d=\"M138.0073,-193.5213C144.4961,-165.1227 153.9119,-112.2239 146.7982,-67.5963 146.2813,-64.3538 145.5572,-61.0233 144.7078,-57.7209\"/>\n<polygon fill=\"#000000\" stroke=\"#000000\" points=\"148.0347,-56.6277 141.8654,-48.0143 141.3168,-58.5949 148.0347,-56.6277\"/>\n<text text-anchor=\"middle\" x=\"163.2982\" y=\"-117.6945\" font-family=\"Times,serif\" font-size=\"14.00\" fill=\"#000000\">[0&#45;9]</text>\n</g>\n<!-- 5&#45;&gt;4 -->\n<g id=\"edge12\" class=\"edge\">\n<title>5&#45;&gt;4</title>\n<path fill=\"none\" stroke=\"#000000\" d=\"M36.1389,-355.574C49.4863,-329.7756 72.9942,-286.7662 97.7982,-252.7889 101.7997,-247.3075 106.4515,-241.7163 111.0318,-236.5477\"/>\n<polygon fill=\"#000000\" stroke=\"#000000\" points=\"113.9042,-238.5929 118.0668,-228.85 108.737,-233.8706 113.9042,-238.5929\"/>\n<text text-anchor=\"middle\" x=\"79.2982\" y=\"-306.8871\" font-family=\"Times,serif\" font-size=\"14.00\" fill=\"#000000\">e</text>\n</g>\n<!-- 5&#45;&gt;5 -->\n<g id=\"edge11\" class=\"edge\">\n<title>5&#45;&gt;5</title>\n<path fill=\"none\" stroke=\"#000000\" d=\"M46.8187,-390.1928C57.8006,-391.8545 67.5963,-387.8514 67.5963,-378.1834 67.5963,-371.6877 63.1744,-367.7493 56.9417,-366.368\"/>\n<polygon fill=\"#000000\" stroke=\"#000000\" points=\"56.8839,-362.8663 46.8187,-366.174 56.7497,-369.865 56.8839,-362.8663\"/>\n<text text-anchor=\"middle\" x=\"82.0963\" y=\"-374.4834\" font-family=\"Times,serif\" font-size=\"14.00\" fill=\"#000000\">[0&#45;9]</text>\n</g>\n<!-- 6&#45;&gt;4 -->\n<g id=\"edge14\" class=\"edge\">\n<title>6&#45;&gt;4</title>\n<path fill=\"none\" stroke=\"#000000\" d=\"M154.6296,-286.7093C150.7535,-273.7984 145.9289,-257.7279 141.8016,-243.9804\"/>\n<polygon fill=\"#000000\" stroke=\"#000000\" points=\"145.0363,-242.5824 138.8086,-234.0111 138.3319,-244.5952 145.0363,-242.5824\"/>\n<text text-anchor=\"middle\" x=\"151.2982\" y=\"-256.5889\" font-family=\"Times,serif\" font-size=\"14.00\" fill=\"#000000\">e</text>\n</g>\n<!-- 6&#45;&gt;6 -->\n<g id=\"edge13\" class=\"edge\">\n<title>6&#45;&gt;6</title>\n<path fill=\"none\" stroke=\"#000000\" d=\"M185.1303,-319.8156C195.5686,-320.6945 204.5963,-317.6183 204.5963,-310.5871 204.5963,-306.0827 200.8913,-303.2015 195.484,-301.9434\"/>\n<polygon fill=\"#000000\" stroke=\"#000000\" points=\"195.3118,-298.4282 185.1303,-301.3586 194.9169,-305.417 195.3118,-298.4282\"/>\n<text text-anchor=\"middle\" x=\"219.0963\" y=\"-306.8871\" font-family=\"Times,serif\" font-size=\"14.00\" fill=\"#000000\">[0&#45;9]</text>\n</g>\n<!-- 8&#45;&gt;7 -->\n<g id=\"edge16\" class=\"edge\">\n<title>8&#45;&gt;7</title>\n<path fill=\"none\" stroke=\"#000000\" d=\"M108.6584,-101.1018C111.1893,-90.9792 114.4498,-78.5821 117.7982,-67.5963 118.7623,-64.4332 119.8138,-61.1559 120.898,-57.8872\"/>\n<polygon fill=\"#000000\" stroke=\"#000000\" points=\"124.2766,-58.8236 124.1945,-48.2291 117.6519,-56.5624 124.2766,-58.8236\"/>\n<text text-anchor=\"middle\" x=\"132.2982\" y=\"-71.3963\" font-family=\"Times,serif\" font-size=\"14.00\" fill=\"#000000\">[0&#45;9]</text>\n</g>\n<!-- 7&#45;&gt;7 -->\n<g id=\"edge15\" class=\"edge\">\n<title>7&#45;&gt;7</title>\n<path fill=\"none\" stroke=\"#000000\" d=\"M156.1303,-34.0267C166.5686,-34.9056 175.5963,-31.8294 175.5963,-24.7982 175.5963,-20.2938 171.8913,-17.4125 166.484,-16.1545\"/>\n<polygon fill=\"#000000\" stroke=\"#000000\" points=\"166.3118,-12.6392 156.1303,-15.5696 165.9169,-19.6281 166.3118,-12.6392\"/>\n<text text-anchor=\"middle\" x=\"190.0963\" y=\"-21.0982\" font-family=\"Times,serif\" font-size=\"14.00\" fill=\"#000000\">[0&#45;9]</text>\n</g>\n</g>\n</svg>\n"
          },
          "metadata": {},
          "execution_count": 55
        }
      ]
    },
    {
      "cell_type": "markdown",
      "source": [
        "Boolean -> true|false"
      ],
      "metadata": {
        "id": "MH1vO9VmZxiw"
      }
    },
    {
      "cell_type": "code",
      "source": [
        "DFA,ac=pfToNFA(postFix('true|false')).NFA_to_DFA()\n",
        "m=DFAtoMatrix( DFA,ac)\n",
        "DrawDFA2(m, ac, [chr(i) for i in range(256)])"
      ],
      "metadata": {
        "colab": {
          "base_uri": "https://localhost:8080/",
          "height": 726
        },
        "id": "-ZFTA4sjZx8K",
        "outputId": "17dc8724-1c1e-4f87-8252-152c343ade54"
      },
      "execution_count": 56,
      "outputs": [
        {
          "output_type": "execute_result",
          "data": {
            "text/plain": [
              "<graphviz.dot.Digraph at 0x7f5626bd4690>"
            ],
            "image/svg+xml": "<?xml version=\"1.0\" encoding=\"UTF-8\" standalone=\"no\"?>\n<!DOCTYPE svg PUBLIC \"-//W3C//DTD SVG 1.1//EN\"\n \"http://www.w3.org/Graphics/SVG/1.1/DTD/svg11.dtd\">\n<!-- Generated by graphviz version 2.40.1 (20161225.0304)\n -->\n<!-- Title: %3 Pages: 1 -->\n<svg width=\"122pt\" height=\"529pt\"\n viewBox=\"0.00 0.00 121.60 528.58\" xmlns=\"http://www.w3.org/2000/svg\" xmlns:xlink=\"http://www.w3.org/1999/xlink\">\n<g id=\"graph0\" class=\"graph\" transform=\"scale(1 1) rotate(0) translate(4 524.5779)\">\n<title>%3</title>\n<polygon fill=\"#ffffff\" stroke=\"transparent\" points=\"-4,4 -4,-524.5779 117.5963,-524.5779 117.5963,4 -4,4\"/>\n<!-- 0 -->\n<g id=\"node1\" class=\"node\">\n<title>0</title>\n<ellipse fill=\"none\" stroke=\"#000000\" cx=\"57.7982\" cy=\"-499.7797\" rx=\"20.5982\" ry=\"20.5982\"/>\n<text text-anchor=\"middle\" x=\"57.7982\" y=\"-496.0797\" font-family=\"Times,serif\" font-size=\"14.00\" fill=\"#000000\">q0</text>\n</g>\n<!-- 2 -->\n<g id=\"node2\" class=\"node\">\n<title>2</title>\n<ellipse fill=\"none\" stroke=\"#000000\" cx=\"27.7982\" cy=\"-407.1834\" rx=\"20.5982\" ry=\"20.5982\"/>\n<text text-anchor=\"middle\" x=\"27.7982\" y=\"-403.4834\" font-family=\"Times,serif\" font-size=\"14.00\" fill=\"#000000\">q2</text>\n</g>\n<!-- 0&#45;&gt;2 -->\n<g id=\"edge1\" class=\"edge\">\n<title>0&#45;&gt;2</title>\n<path fill=\"none\" stroke=\"#000000\" d=\"M51.2886,-479.6877C47.2394,-467.1897 41.9594,-450.8927 37.4311,-436.9159\"/>\n<polygon fill=\"#000000\" stroke=\"#000000\" points=\"40.7068,-435.6706 34.295,-427.2362 34.0476,-437.8281 40.7068,-435.6706\"/>\n<text text-anchor=\"middle\" x=\"47.2982\" y=\"-449.7815\" font-family=\"Times,serif\" font-size=\"14.00\" fill=\"#000000\">f</text>\n</g>\n<!-- 1 -->\n<g id=\"node3\" class=\"node\">\n<title>1</title>\n<ellipse fill=\"none\" stroke=\"#000000\" cx=\"87.7982\" cy=\"-407.1834\" rx=\"20.5982\" ry=\"20.5982\"/>\n<text text-anchor=\"middle\" x=\"87.7982\" y=\"-403.4834\" font-family=\"Times,serif\" font-size=\"14.00\" fill=\"#000000\">q1</text>\n</g>\n<!-- 0&#45;&gt;1 -->\n<g id=\"edge2\" class=\"edge\">\n<title>0&#45;&gt;1</title>\n<path fill=\"none\" stroke=\"#000000\" d=\"M64.3077,-479.6877C68.3569,-467.1897 73.6369,-450.8927 78.1652,-436.9159\"/>\n<polygon fill=\"#000000\" stroke=\"#000000\" points=\"81.5487,-437.8281 81.3013,-427.2362 74.8895,-435.6706 81.5487,-437.8281\"/>\n<text text-anchor=\"middle\" x=\"76.7982\" y=\"-449.7815\" font-family=\"Times,serif\" font-size=\"14.00\" fill=\"#000000\">t</text>\n</g>\n<!-- 4 -->\n<g id=\"node5\" class=\"node\">\n<title>4</title>\n<ellipse fill=\"none\" stroke=\"#000000\" cx=\"27.7982\" cy=\"-314.5871\" rx=\"20.5982\" ry=\"20.5982\"/>\n<text text-anchor=\"middle\" x=\"27.7982\" y=\"-310.8871\" font-family=\"Times,serif\" font-size=\"14.00\" fill=\"#000000\">q4</text>\n</g>\n<!-- 2&#45;&gt;4 -->\n<g id=\"edge4\" class=\"edge\">\n<title>2&#45;&gt;4</title>\n<path fill=\"none\" stroke=\"#000000\" d=\"M27.7982,-386.1719C27.7982,-374.2144 27.7982,-359.0109 27.7982,-345.6934\"/>\n<polygon fill=\"#000000\" stroke=\"#000000\" points=\"31.2983,-345.5154 27.7982,-335.5155 24.2983,-345.5155 31.2983,-345.5154\"/>\n<text text-anchor=\"middle\" x=\"31.2982\" y=\"-357.1852\" font-family=\"Times,serif\" font-size=\"14.00\" fill=\"#000000\">a</text>\n</g>\n<!-- 3 -->\n<g id=\"node4\" class=\"node\">\n<title>3</title>\n<ellipse fill=\"none\" stroke=\"#000000\" cx=\"87.7982\" cy=\"-314.5871\" rx=\"20.5982\" ry=\"20.5982\"/>\n<text text-anchor=\"middle\" x=\"87.7982\" y=\"-310.8871\" font-family=\"Times,serif\" font-size=\"14.00\" fill=\"#000000\">q3</text>\n</g>\n<!-- 1&#45;&gt;3 -->\n<g id=\"edge3\" class=\"edge\">\n<title>1&#45;&gt;3</title>\n<path fill=\"none\" stroke=\"#000000\" d=\"M87.7982,-386.1719C87.7982,-374.2144 87.7982,-359.0109 87.7982,-345.6934\"/>\n<polygon fill=\"#000000\" stroke=\"#000000\" points=\"91.2983,-345.5154 87.7982,-335.5155 84.2983,-345.5155 91.2983,-345.5154\"/>\n<text text-anchor=\"middle\" x=\"90.2982\" y=\"-357.1852\" font-family=\"Times,serif\" font-size=\"14.00\" fill=\"#000000\">r</text>\n</g>\n<!-- 5 -->\n<g id=\"node6\" class=\"node\">\n<title>5</title>\n<ellipse fill=\"none\" stroke=\"#000000\" cx=\"88.7982\" cy=\"-221.9908\" rx=\"20.5982\" ry=\"20.5982\"/>\n<text text-anchor=\"middle\" x=\"88.7982\" y=\"-218.2908\" font-family=\"Times,serif\" font-size=\"14.00\" fill=\"#000000\">q5</text>\n</g>\n<!-- 3&#45;&gt;5 -->\n<g id=\"edge5\" class=\"edge\">\n<title>3&#45;&gt;5</title>\n<path fill=\"none\" stroke=\"#000000\" d=\"M88.0251,-293.5755C88.1542,-281.6181 88.3184,-266.4146 88.4622,-253.0971\"/>\n<polygon fill=\"#000000\" stroke=\"#000000\" points=\"91.9638,-252.9564 88.5721,-242.9192 84.9643,-252.8807 91.9638,-252.9564\"/>\n<text text-anchor=\"middle\" x=\"91.7982\" y=\"-264.5889\" font-family=\"Times,serif\" font-size=\"14.00\" fill=\"#000000\">u</text>\n</g>\n<!-- 6 -->\n<g id=\"node7\" class=\"node\">\n<title>6</title>\n<ellipse fill=\"none\" stroke=\"#000000\" cx=\"27.7982\" cy=\"-221.9908\" rx=\"20.5982\" ry=\"20.5982\"/>\n<text text-anchor=\"middle\" x=\"27.7982\" y=\"-218.2908\" font-family=\"Times,serif\" font-size=\"14.00\" fill=\"#000000\">q6</text>\n</g>\n<!-- 4&#45;&gt;6 -->\n<g id=\"edge6\" class=\"edge\">\n<title>4&#45;&gt;6</title>\n<path fill=\"none\" stroke=\"#000000\" d=\"M27.7982,-293.5755C27.7982,-281.6181 27.7982,-266.4146 27.7982,-253.0971\"/>\n<polygon fill=\"#000000\" stroke=\"#000000\" points=\"31.2983,-252.9191 27.7982,-242.9192 24.2983,-252.9192 31.2983,-252.9191\"/>\n<text text-anchor=\"middle\" x=\"29.7982\" y=\"-264.5889\" font-family=\"Times,serif\" font-size=\"14.00\" fill=\"#000000\">l</text>\n</g>\n<!-- 7 -->\n<g id=\"node8\" class=\"node\">\n<title>7</title>\n<ellipse fill=\"none\" stroke=\"#000000\" cx=\"88.7982\" cy=\"-125.3945\" rx=\"20.6302\" ry=\"20.6302\"/>\n<ellipse fill=\"none\" stroke=\"#000000\" cx=\"88.7982\" cy=\"-125.3945\" rx=\"24.5979\" ry=\"24.5979\"/>\n<text text-anchor=\"middle\" x=\"88.7982\" y=\"-121.6945\" font-family=\"Times,serif\" font-size=\"14.00\" fill=\"#000000\">q7</text>\n</g>\n<!-- 5&#45;&gt;7 -->\n<g id=\"edge7\" class=\"edge\">\n<title>5&#45;&gt;7</title>\n<path fill=\"none\" stroke=\"#000000\" d=\"M88.7982,-201.0308C88.7982,-189.1807 88.7982,-174.0568 88.7982,-160.4518\"/>\n<polygon fill=\"#000000\" stroke=\"#000000\" points=\"92.2983,-160.4235 88.7982,-150.4235 85.2983,-160.4236 92.2983,-160.4235\"/>\n<text text-anchor=\"middle\" x=\"92.2982\" y=\"-171.9926\" font-family=\"Times,serif\" font-size=\"14.00\" fill=\"#000000\">e</text>\n</g>\n<!-- 8 -->\n<g id=\"node9\" class=\"node\">\n<title>8</title>\n<ellipse fill=\"none\" stroke=\"#000000\" cx=\"24.7982\" cy=\"-125.3945\" rx=\"20.5982\" ry=\"20.5982\"/>\n<text text-anchor=\"middle\" x=\"24.7982\" y=\"-121.6945\" font-family=\"Times,serif\" font-size=\"14.00\" fill=\"#000000\">q8</text>\n</g>\n<!-- 6&#45;&gt;8 -->\n<g id=\"edge8\" class=\"edge\">\n<title>6&#45;&gt;8</title>\n<path fill=\"none\" stroke=\"#000000\" d=\"M27.1472,-201.0308C26.7423,-187.9929 26.2143,-170.992 25.7615,-156.4114\"/>\n<polygon fill=\"#000000\" stroke=\"#000000\" points=\"29.2567,-156.2 25.4478,-146.3135 22.26,-156.4174 29.2567,-156.2\"/>\n<text text-anchor=\"middle\" x=\"29.7982\" y=\"-171.9926\" font-family=\"Times,serif\" font-size=\"14.00\" fill=\"#000000\">s</text>\n</g>\n<!-- 9 -->\n<g id=\"node10\" class=\"node\">\n<title>9</title>\n<ellipse fill=\"none\" stroke=\"#000000\" cx=\"24.7982\" cy=\"-24.7982\" rx=\"20.6302\" ry=\"20.6302\"/>\n<ellipse fill=\"none\" stroke=\"#000000\" cx=\"24.7982\" cy=\"-24.7982\" rx=\"24.5979\" ry=\"24.5979\"/>\n<text text-anchor=\"middle\" x=\"24.7982\" y=\"-21.0982\" font-family=\"Times,serif\" font-size=\"14.00\" fill=\"#000000\">q9</text>\n</g>\n<!-- 8&#45;&gt;9 -->\n<g id=\"edge9\" class=\"edge\">\n<title>8&#45;&gt;9</title>\n<path fill=\"none\" stroke=\"#000000\" d=\"M24.7982,-104.5508C24.7982,-91.7695 24.7982,-75.0702 24.7982,-60.2569\"/>\n<polygon fill=\"#000000\" stroke=\"#000000\" points=\"28.2983,-59.8869 24.7982,-49.8869 21.2983,-59.887 28.2983,-59.8869\"/>\n<text text-anchor=\"middle\" x=\"28.2982\" y=\"-71.3963\" font-family=\"Times,serif\" font-size=\"14.00\" fill=\"#000000\">e</text>\n</g>\n</g>\n</svg>\n"
          },
          "metadata": {},
          "execution_count": 56
        }
      ]
    },
    {
      "cell_type": "markdown",
      "source": [
        "Null -> null"
      ],
      "metadata": {
        "id": "i3FJfzlBZ6CK"
      }
    },
    {
      "cell_type": "code",
      "source": [
        "DFA,ac=pfToNFA(postFix('null')).NFA_to_DFA()\n",
        "m=DFAtoMatrix( DFA,ac)\n",
        "DrawDFA2(m, ac, [chr(i) for i in range(256)])"
      ],
      "metadata": {
        "colab": {
          "base_uri": "https://localhost:8080/",
          "height": 591
        },
        "id": "_Y5yAH80Z6wM",
        "outputId": "bb7d4967-4a90-4faf-c859-28ca2b32dd89"
      },
      "execution_count": 57,
      "outputs": [
        {
          "output_type": "execute_result",
          "data": {
            "text/plain": [
              "<graphviz.dot.Digraph at 0x7f5627476310>"
            ],
            "image/svg+xml": "<?xml version=\"1.0\" encoding=\"UTF-8\" standalone=\"no\"?>\n<!DOCTYPE svg PUBLIC \"-//W3C//DTD SVG 1.1//EN\"\n \"http://www.w3.org/Graphics/SVG/1.1/DTD/svg11.dtd\">\n<!-- Generated by graphviz version 2.40.1 (20161225.0304)\n -->\n<!-- Title: %3 Pages: 1 -->\n<svg width=\"58pt\" height=\"428pt\"\n viewBox=\"0.00 0.00 57.60 427.98\" xmlns=\"http://www.w3.org/2000/svg\" xmlns:xlink=\"http://www.w3.org/1999/xlink\">\n<g id=\"graph0\" class=\"graph\" transform=\"scale(1 1) rotate(0) translate(4 423.9815)\">\n<title>%3</title>\n<polygon fill=\"#ffffff\" stroke=\"transparent\" points=\"-4,4 -4,-423.9815 53.5963,-423.9815 53.5963,4 -4,4\"/>\n<!-- 0 -->\n<g id=\"node1\" class=\"node\">\n<title>0</title>\n<ellipse fill=\"none\" stroke=\"#000000\" cx=\"24.7982\" cy=\"-399.1834\" rx=\"20.5982\" ry=\"20.5982\"/>\n<text text-anchor=\"middle\" x=\"24.7982\" y=\"-395.4834\" font-family=\"Times,serif\" font-size=\"14.00\" fill=\"#000000\">q0</text>\n</g>\n<!-- 1 -->\n<g id=\"node2\" class=\"node\">\n<title>1</title>\n<ellipse fill=\"none\" stroke=\"#000000\" cx=\"24.7982\" cy=\"-306.5871\" rx=\"20.5982\" ry=\"20.5982\"/>\n<text text-anchor=\"middle\" x=\"24.7982\" y=\"-302.8871\" font-family=\"Times,serif\" font-size=\"14.00\" fill=\"#000000\">q1</text>\n</g>\n<!-- 0&#45;&gt;1 -->\n<g id=\"edge1\" class=\"edge\">\n<title>0&#45;&gt;1</title>\n<path fill=\"none\" stroke=\"#000000\" d=\"M24.7982,-378.1719C24.7982,-366.2144 24.7982,-351.0109 24.7982,-337.6934\"/>\n<polygon fill=\"#000000\" stroke=\"#000000\" points=\"28.2983,-337.5154 24.7982,-327.5155 21.2983,-337.5155 28.2983,-337.5154\"/>\n<text text-anchor=\"middle\" x=\"28.7982\" y=\"-349.1852\" font-family=\"Times,serif\" font-size=\"14.00\" fill=\"#000000\">n</text>\n</g>\n<!-- 2 -->\n<g id=\"node3\" class=\"node\">\n<title>2</title>\n<ellipse fill=\"none\" stroke=\"#000000\" cx=\"24.7982\" cy=\"-213.9908\" rx=\"20.5982\" ry=\"20.5982\"/>\n<text text-anchor=\"middle\" x=\"24.7982\" y=\"-210.2908\" font-family=\"Times,serif\" font-size=\"14.00\" fill=\"#000000\">q2</text>\n</g>\n<!-- 1&#45;&gt;2 -->\n<g id=\"edge2\" class=\"edge\">\n<title>1&#45;&gt;2</title>\n<path fill=\"none\" stroke=\"#000000\" d=\"M24.7982,-285.5755C24.7982,-273.6181 24.7982,-258.4146 24.7982,-245.0971\"/>\n<polygon fill=\"#000000\" stroke=\"#000000\" points=\"28.2983,-244.9191 24.7982,-234.9192 21.2983,-244.9192 28.2983,-244.9191\"/>\n<text text-anchor=\"middle\" x=\"28.7982\" y=\"-256.5889\" font-family=\"Times,serif\" font-size=\"14.00\" fill=\"#000000\">u</text>\n</g>\n<!-- 3 -->\n<g id=\"node4\" class=\"node\">\n<title>3</title>\n<ellipse fill=\"none\" stroke=\"#000000\" cx=\"24.7982\" cy=\"-121.3945\" rx=\"20.5982\" ry=\"20.5982\"/>\n<text text-anchor=\"middle\" x=\"24.7982\" y=\"-117.6945\" font-family=\"Times,serif\" font-size=\"14.00\" fill=\"#000000\">q3</text>\n</g>\n<!-- 2&#45;&gt;3 -->\n<g id=\"edge3\" class=\"edge\">\n<title>2&#45;&gt;3</title>\n<path fill=\"none\" stroke=\"#000000\" d=\"M24.7982,-192.9792C24.7982,-181.0218 24.7982,-165.8183 24.7982,-152.5008\"/>\n<polygon fill=\"#000000\" stroke=\"#000000\" points=\"28.2983,-152.3228 24.7982,-142.3228 21.2983,-152.3229 28.2983,-152.3228\"/>\n<text text-anchor=\"middle\" x=\"26.7982\" y=\"-163.9926\" font-family=\"Times,serif\" font-size=\"14.00\" fill=\"#000000\">l</text>\n</g>\n<!-- 4 -->\n<g id=\"node5\" class=\"node\">\n<title>4</title>\n<ellipse fill=\"none\" stroke=\"#000000\" cx=\"24.7982\" cy=\"-24.7982\" rx=\"20.6302\" ry=\"20.6302\"/>\n<ellipse fill=\"none\" stroke=\"#000000\" cx=\"24.7982\" cy=\"-24.7982\" rx=\"24.5979\" ry=\"24.5979\"/>\n<text text-anchor=\"middle\" x=\"24.7982\" y=\"-21.0982\" font-family=\"Times,serif\" font-size=\"14.00\" fill=\"#000000\">q4</text>\n</g>\n<!-- 3&#45;&gt;4 -->\n<g id=\"edge4\" class=\"edge\">\n<title>3&#45;&gt;4</title>\n<path fill=\"none\" stroke=\"#000000\" d=\"M24.7982,-100.4345C24.7982,-88.5844 24.7982,-73.4604 24.7982,-59.8555\"/>\n<polygon fill=\"#000000\" stroke=\"#000000\" points=\"28.2983,-59.8272 24.7982,-49.8272 21.2983,-59.8273 28.2983,-59.8272\"/>\n<text text-anchor=\"middle\" x=\"26.7982\" y=\"-71.3963\" font-family=\"Times,serif\" font-size=\"14.00\" fill=\"#000000\">l</text>\n</g>\n</g>\n</svg>\n"
          },
          "metadata": {},
          "execution_count": 57
        }
      ]
    },
    {
      "cell_type": "markdown",
      "source": [
        "Separator -> ([ ]|[ \\t ])+"
      ],
      "metadata": {
        "id": "0mpV6tcsaBPD"
      }
    },
    {
      "cell_type": "code",
      "source": [
        "DFA,ac=pfToNFA(postFix('([ ]|[     ])+')).NFA_to_DFA()\n",
        "m=DFAtoMatrix( DFA,ac)\n",
        "DrawDFA2(m, ac, [chr(i) for i in range(256)])"
      ],
      "metadata": {
        "colab": {
          "base_uri": "https://localhost:8080/",
          "height": 221
        },
        "id": "BSaktf3SaBkt",
        "outputId": "27bd77ed-9974-4478-bd8e-41df7cfc3166"
      },
      "execution_count": 58,
      "outputs": [
        {
          "output_type": "execute_result",
          "data": {
            "text/plain": [
              "<graphviz.dot.Digraph at 0x7f5627476790>"
            ],
            "image/svg+xml": "<?xml version=\"1.0\" encoding=\"UTF-8\" standalone=\"no\"?>\n<!DOCTYPE svg PUBLIC \"-//W3C//DTD SVG 1.1//EN\"\n \"http://www.w3.org/Graphics/SVG/1.1/DTD/svg11.dtd\">\n<!-- Generated by graphviz version 2.40.1 (20161225.0304)\n -->\n<!-- Title: %3 Pages: 1 -->\n<svg width=\"80pt\" height=\"150pt\"\n viewBox=\"0.00 0.00 79.60 150.19\" xmlns=\"http://www.w3.org/2000/svg\" xmlns:xlink=\"http://www.w3.org/1999/xlink\">\n<g id=\"graph0\" class=\"graph\" transform=\"scale(1 1) rotate(0) translate(4 146.1926)\">\n<title>%3</title>\n<polygon fill=\"#ffffff\" stroke=\"transparent\" points=\"-4,4 -4,-146.1926 75.5963,-146.1926 75.5963,4 -4,4\"/>\n<!-- 0 -->\n<g id=\"node1\" class=\"node\">\n<title>0</title>\n<ellipse fill=\"none\" stroke=\"#000000\" cx=\"24.7982\" cy=\"-121.3945\" rx=\"20.5982\" ry=\"20.5982\"/>\n<text text-anchor=\"middle\" x=\"24.7982\" y=\"-117.6945\" font-family=\"Times,serif\" font-size=\"14.00\" fill=\"#000000\">q0</text>\n</g>\n<!-- 1 -->\n<g id=\"node2\" class=\"node\">\n<title>1</title>\n<ellipse fill=\"none\" stroke=\"#000000\" cx=\"24.7982\" cy=\"-24.7982\" rx=\"20.6302\" ry=\"20.6302\"/>\n<ellipse fill=\"none\" stroke=\"#000000\" cx=\"24.7982\" cy=\"-24.7982\" rx=\"24.5979\" ry=\"24.5979\"/>\n<text text-anchor=\"middle\" x=\"24.7982\" y=\"-21.0982\" font-family=\"Times,serif\" font-size=\"14.00\" fill=\"#000000\">q1</text>\n</g>\n<!-- 0&#45;&gt;1 -->\n<g id=\"edge1\" class=\"edge\">\n<title>0&#45;&gt;1</title>\n<path fill=\"none\" stroke=\"#000000\" d=\"M24.7982,-100.4345C24.7982,-88.5844 24.7982,-73.4604 24.7982,-59.8555\"/>\n<polygon fill=\"#000000\" stroke=\"#000000\" points=\"28.2983,-59.8272 24.7982,-49.8272 21.2983,-59.8273 28.2983,-59.8272\"/>\n<text text-anchor=\"middle\" x=\"26.7982\" y=\"-71.3963\" font-family=\"Times,serif\" font-size=\"14.00\" fill=\"#000000\"> </text>\n</g>\n<!-- 1&#45;&gt;1 -->\n<g id=\"edge2\" class=\"edge\">\n<title>1&#45;&gt;1</title>\n<path fill=\"none\" stroke=\"#000000\" d=\"M48.1303,-34.0267C58.5686,-34.9056 67.5963,-31.8294 67.5963,-24.7982 67.5963,-20.2938 63.8913,-17.4125 58.484,-16.1545\"/>\n<polygon fill=\"#000000\" stroke=\"#000000\" points=\"58.3118,-12.6392 48.1303,-15.5696 57.9169,-19.6281 58.3118,-12.6392\"/>\n<text text-anchor=\"middle\" x=\"69.5963\" y=\"-21.0982\" font-family=\"Times,serif\" font-size=\"14.00\" fill=\"#000000\"> </text>\n</g>\n</g>\n</svg>\n"
          },
          "metadata": {},
          "execution_count": 58
        }
      ]
    },
    {
      "cell_type": "markdown",
      "source": [
        "Asign -> :"
      ],
      "metadata": {
        "id": "IY0kjA28af-o"
      }
    },
    {
      "cell_type": "code",
      "source": [
        "DFA,ac=pfToNFA(postFix(':')).NFA_to_DFA()\n",
        "m=DFAtoMatrix( DFA,ac)\n",
        "DrawDFA2(m, ac, [chr(i) for i in range(256)])"
      ],
      "metadata": {
        "colab": {
          "base_uri": "https://localhost:8080/",
          "height": 221
        },
        "id": "LqqthxPHafNo",
        "outputId": "a21d1a64-5880-48a0-fd14-2306579075e8"
      },
      "execution_count": 59,
      "outputs": [
        {
          "output_type": "execute_result",
          "data": {
            "text/plain": [
              "<graphviz.dot.Digraph at 0x7f5626b88a50>"
            ],
            "image/svg+xml": "<?xml version=\"1.0\" encoding=\"UTF-8\" standalone=\"no\"?>\n<!DOCTYPE svg PUBLIC \"-//W3C//DTD SVG 1.1//EN\"\n \"http://www.w3.org/Graphics/SVG/1.1/DTD/svg11.dtd\">\n<!-- Generated by graphviz version 2.40.1 (20161225.0304)\n -->\n<!-- Title: %3 Pages: 1 -->\n<svg width=\"58pt\" height=\"150pt\"\n viewBox=\"0.00 0.00 57.60 150.19\" xmlns=\"http://www.w3.org/2000/svg\" xmlns:xlink=\"http://www.w3.org/1999/xlink\">\n<g id=\"graph0\" class=\"graph\" transform=\"scale(1 1) rotate(0) translate(4 146.1926)\">\n<title>%3</title>\n<polygon fill=\"#ffffff\" stroke=\"transparent\" points=\"-4,4 -4,-146.1926 53.5963,-146.1926 53.5963,4 -4,4\"/>\n<!-- 0 -->\n<g id=\"node1\" class=\"node\">\n<title>0</title>\n<ellipse fill=\"none\" stroke=\"#000000\" cx=\"24.7982\" cy=\"-121.3945\" rx=\"20.5982\" ry=\"20.5982\"/>\n<text text-anchor=\"middle\" x=\"24.7982\" y=\"-117.6945\" font-family=\"Times,serif\" font-size=\"14.00\" fill=\"#000000\">q0</text>\n</g>\n<!-- 1 -->\n<g id=\"node2\" class=\"node\">\n<title>1</title>\n<ellipse fill=\"none\" stroke=\"#000000\" cx=\"24.7982\" cy=\"-24.7982\" rx=\"20.6302\" ry=\"20.6302\"/>\n<ellipse fill=\"none\" stroke=\"#000000\" cx=\"24.7982\" cy=\"-24.7982\" rx=\"24.5979\" ry=\"24.5979\"/>\n<text text-anchor=\"middle\" x=\"24.7982\" y=\"-21.0982\" font-family=\"Times,serif\" font-size=\"14.00\" fill=\"#000000\">q1</text>\n</g>\n<!-- 0&#45;&gt;1 -->\n<g id=\"edge1\" class=\"edge\">\n<title>0&#45;&gt;1</title>\n<path fill=\"none\" stroke=\"#000000\" d=\"M24.7982,-100.4345C24.7982,-88.5844 24.7982,-73.4604 24.7982,-59.8555\"/>\n<polygon fill=\"#000000\" stroke=\"#000000\" points=\"28.2983,-59.8272 24.7982,-49.8272 21.2983,-59.8273 28.2983,-59.8272\"/>\n<text text-anchor=\"middle\" x=\"26.7982\" y=\"-71.3963\" font-family=\"Times,serif\" font-size=\"14.00\" fill=\"#000000\">:</text>\n</g>\n</g>\n</svg>\n"
          },
          "metadata": {},
          "execution_count": 59
        }
      ]
    },
    {
      "cell_type": "markdown",
      "source": [
        "LeftBracket -> {\n"
      ],
      "metadata": {
        "id": "dmwq1Z9halOn"
      }
    },
    {
      "cell_type": "code",
      "source": [
        "DFA,ac=pfToNFA(postFix('{')).NFA_to_DFA()\n",
        "m=DFAtoMatrix( DFA,ac)\n",
        "DrawDFA2(m, ac, [chr(i) for i in range(256)])"
      ],
      "metadata": {
        "colab": {
          "base_uri": "https://localhost:8080/",
          "height": 221
        },
        "id": "v9BMoloNal2x",
        "outputId": "b9c1f0f8-1dc0-4539-d0a8-728e786ff169"
      },
      "execution_count": 60,
      "outputs": [
        {
          "output_type": "execute_result",
          "data": {
            "text/plain": [
              "<graphviz.dot.Digraph at 0x7f5626bb3c10>"
            ],
            "image/svg+xml": "<?xml version=\"1.0\" encoding=\"UTF-8\" standalone=\"no\"?>\n<!DOCTYPE svg PUBLIC \"-//W3C//DTD SVG 1.1//EN\"\n \"http://www.w3.org/Graphics/SVG/1.1/DTD/svg11.dtd\">\n<!-- Generated by graphviz version 2.40.1 (20161225.0304)\n -->\n<!-- Title: %3 Pages: 1 -->\n<svg width=\"58pt\" height=\"150pt\"\n viewBox=\"0.00 0.00 57.60 150.19\" xmlns=\"http://www.w3.org/2000/svg\" xmlns:xlink=\"http://www.w3.org/1999/xlink\">\n<g id=\"graph0\" class=\"graph\" transform=\"scale(1 1) rotate(0) translate(4 146.1926)\">\n<title>%3</title>\n<polygon fill=\"#ffffff\" stroke=\"transparent\" points=\"-4,4 -4,-146.1926 53.5963,-146.1926 53.5963,4 -4,4\"/>\n<!-- 0 -->\n<g id=\"node1\" class=\"node\">\n<title>0</title>\n<ellipse fill=\"none\" stroke=\"#000000\" cx=\"24.7982\" cy=\"-121.3945\" rx=\"20.5982\" ry=\"20.5982\"/>\n<text text-anchor=\"middle\" x=\"24.7982\" y=\"-117.6945\" font-family=\"Times,serif\" font-size=\"14.00\" fill=\"#000000\">q0</text>\n</g>\n<!-- 1 -->\n<g id=\"node2\" class=\"node\">\n<title>1</title>\n<ellipse fill=\"none\" stroke=\"#000000\" cx=\"24.7982\" cy=\"-24.7982\" rx=\"20.6302\" ry=\"20.6302\"/>\n<ellipse fill=\"none\" stroke=\"#000000\" cx=\"24.7982\" cy=\"-24.7982\" rx=\"24.5979\" ry=\"24.5979\"/>\n<text text-anchor=\"middle\" x=\"24.7982\" y=\"-21.0982\" font-family=\"Times,serif\" font-size=\"14.00\" fill=\"#000000\">q1</text>\n</g>\n<!-- 0&#45;&gt;1 -->\n<g id=\"edge1\" class=\"edge\">\n<title>0&#45;&gt;1</title>\n<path fill=\"none\" stroke=\"#000000\" d=\"M24.7982,-100.4345C24.7982,-88.5844 24.7982,-73.4604 24.7982,-59.8555\"/>\n<polygon fill=\"#000000\" stroke=\"#000000\" points=\"28.2983,-59.8272 24.7982,-49.8272 21.2983,-59.8273 28.2983,-59.8272\"/>\n<text text-anchor=\"middle\" x=\"28.2982\" y=\"-71.3963\" font-family=\"Times,serif\" font-size=\"14.00\" fill=\"#000000\">{</text>\n</g>\n</g>\n</svg>\n"
          },
          "metadata": {},
          "execution_count": 60
        }
      ]
    },
    {
      "cell_type": "markdown",
      "source": [
        "RightBracket -> }"
      ],
      "metadata": {
        "id": "ph9rCHDVatj4"
      }
    },
    {
      "cell_type": "code",
      "source": [
        "DFA,ac=pfToNFA(postFix('}')).NFA_to_DFA()\n",
        "m=DFAtoMatrix( DFA,ac)\n",
        "DrawDFA2(m, ac, [chr(i) for i in range(256)])"
      ],
      "metadata": {
        "colab": {
          "base_uri": "https://localhost:8080/",
          "height": 221
        },
        "id": "hMt8FmlpavPq",
        "outputId": "ea1bd36d-6768-418a-93aa-2868f40769f4"
      },
      "execution_count": 61,
      "outputs": [
        {
          "output_type": "execute_result",
          "data": {
            "text/plain": [
              "<graphviz.dot.Digraph at 0x7f5626bb4610>"
            ],
            "image/svg+xml": "<?xml version=\"1.0\" encoding=\"UTF-8\" standalone=\"no\"?>\n<!DOCTYPE svg PUBLIC \"-//W3C//DTD SVG 1.1//EN\"\n \"http://www.w3.org/Graphics/SVG/1.1/DTD/svg11.dtd\">\n<!-- Generated by graphviz version 2.40.1 (20161225.0304)\n -->\n<!-- Title: %3 Pages: 1 -->\n<svg width=\"58pt\" height=\"150pt\"\n viewBox=\"0.00 0.00 57.60 150.19\" xmlns=\"http://www.w3.org/2000/svg\" xmlns:xlink=\"http://www.w3.org/1999/xlink\">\n<g id=\"graph0\" class=\"graph\" transform=\"scale(1 1) rotate(0) translate(4 146.1926)\">\n<title>%3</title>\n<polygon fill=\"#ffffff\" stroke=\"transparent\" points=\"-4,4 -4,-146.1926 53.5963,-146.1926 53.5963,4 -4,4\"/>\n<!-- 0 -->\n<g id=\"node1\" class=\"node\">\n<title>0</title>\n<ellipse fill=\"none\" stroke=\"#000000\" cx=\"24.7982\" cy=\"-121.3945\" rx=\"20.5982\" ry=\"20.5982\"/>\n<text text-anchor=\"middle\" x=\"24.7982\" y=\"-117.6945\" font-family=\"Times,serif\" font-size=\"14.00\" fill=\"#000000\">q0</text>\n</g>\n<!-- 1 -->\n<g id=\"node2\" class=\"node\">\n<title>1</title>\n<ellipse fill=\"none\" stroke=\"#000000\" cx=\"24.7982\" cy=\"-24.7982\" rx=\"20.6302\" ry=\"20.6302\"/>\n<ellipse fill=\"none\" stroke=\"#000000\" cx=\"24.7982\" cy=\"-24.7982\" rx=\"24.5979\" ry=\"24.5979\"/>\n<text text-anchor=\"middle\" x=\"24.7982\" y=\"-21.0982\" font-family=\"Times,serif\" font-size=\"14.00\" fill=\"#000000\">q1</text>\n</g>\n<!-- 0&#45;&gt;1 -->\n<g id=\"edge1\" class=\"edge\">\n<title>0&#45;&gt;1</title>\n<path fill=\"none\" stroke=\"#000000\" d=\"M24.7982,-100.4345C24.7982,-88.5844 24.7982,-73.4604 24.7982,-59.8555\"/>\n<polygon fill=\"#000000\" stroke=\"#000000\" points=\"28.2983,-59.8272 24.7982,-49.8272 21.2983,-59.8273 28.2983,-59.8272\"/>\n<text text-anchor=\"middle\" x=\"28.2982\" y=\"-71.3963\" font-family=\"Times,serif\" font-size=\"14.00\" fill=\"#000000\">}</text>\n</g>\n</g>\n</svg>\n"
          },
          "metadata": {},
          "execution_count": 61
        }
      ]
    },
    {
      "cell_type": "markdown",
      "source": [
        "RightParenthesis -> ]"
      ],
      "metadata": {
        "id": "B6E895g0bGgn"
      }
    },
    {
      "cell_type": "code",
      "source": [
        "DFA,ac=pfToNFA(postFix(']')).NFA_to_DFA()\n",
        "m=DFAtoMatrix( DFA,ac)\n",
        "DrawDFA2(m, ac, [chr(i) for i in range(256)])"
      ],
      "metadata": {
        "colab": {
          "base_uri": "https://localhost:8080/",
          "height": 221
        },
        "id": "DfZJ9mXEbImV",
        "outputId": "e6f88322-0682-4049-a4f1-90f02a36e8fe"
      },
      "execution_count": 62,
      "outputs": [
        {
          "output_type": "execute_result",
          "data": {
            "text/plain": [
              "<graphviz.dot.Digraph at 0x7f5626bb4790>"
            ],
            "image/svg+xml": "<?xml version=\"1.0\" encoding=\"UTF-8\" standalone=\"no\"?>\n<!DOCTYPE svg PUBLIC \"-//W3C//DTD SVG 1.1//EN\"\n \"http://www.w3.org/Graphics/SVG/1.1/DTD/svg11.dtd\">\n<!-- Generated by graphviz version 2.40.1 (20161225.0304)\n -->\n<!-- Title: %3 Pages: 1 -->\n<svg width=\"58pt\" height=\"150pt\"\n viewBox=\"0.00 0.00 57.60 150.19\" xmlns=\"http://www.w3.org/2000/svg\" xmlns:xlink=\"http://www.w3.org/1999/xlink\">\n<g id=\"graph0\" class=\"graph\" transform=\"scale(1 1) rotate(0) translate(4 146.1926)\">\n<title>%3</title>\n<polygon fill=\"#ffffff\" stroke=\"transparent\" points=\"-4,4 -4,-146.1926 53.5963,-146.1926 53.5963,4 -4,4\"/>\n<!-- 0 -->\n<g id=\"node1\" class=\"node\">\n<title>0</title>\n<ellipse fill=\"none\" stroke=\"#000000\" cx=\"24.7982\" cy=\"-121.3945\" rx=\"20.5982\" ry=\"20.5982\"/>\n<text text-anchor=\"middle\" x=\"24.7982\" y=\"-117.6945\" font-family=\"Times,serif\" font-size=\"14.00\" fill=\"#000000\">q0</text>\n</g>\n<!-- 1 -->\n<g id=\"node2\" class=\"node\">\n<title>1</title>\n<ellipse fill=\"none\" stroke=\"#000000\" cx=\"24.7982\" cy=\"-24.7982\" rx=\"20.6302\" ry=\"20.6302\"/>\n<ellipse fill=\"none\" stroke=\"#000000\" cx=\"24.7982\" cy=\"-24.7982\" rx=\"24.5979\" ry=\"24.5979\"/>\n<text text-anchor=\"middle\" x=\"24.7982\" y=\"-21.0982\" font-family=\"Times,serif\" font-size=\"14.00\" fill=\"#000000\">q1</text>\n</g>\n<!-- 0&#45;&gt;1 -->\n<g id=\"edge1\" class=\"edge\">\n<title>0&#45;&gt;1</title>\n<path fill=\"none\" stroke=\"#000000\" d=\"M24.7982,-100.4345C24.7982,-88.5844 24.7982,-73.4604 24.7982,-59.8555\"/>\n<polygon fill=\"#000000\" stroke=\"#000000\" points=\"28.2983,-59.8272 24.7982,-49.8272 21.2983,-59.8273 28.2983,-59.8272\"/>\n<text text-anchor=\"middle\" x=\"27.2982\" y=\"-71.3963\" font-family=\"Times,serif\" font-size=\"14.00\" fill=\"#000000\">]</text>\n</g>\n</g>\n</svg>\n"
          },
          "metadata": {},
          "execution_count": 62
        }
      ]
    },
    {
      "cell_type": "markdown",
      "source": [
        "Comma -> ,"
      ],
      "metadata": {
        "id": "N0BHc1sga27Z"
      }
    },
    {
      "cell_type": "code",
      "source": [
        "DFA,ac=pfToNFA(postFix(',')).NFA_to_DFA()\n",
        "m=DFAtoMatrix( DFA,ac)\n",
        "DrawDFA2(m, ac, [chr(i) for i in range(256)])"
      ],
      "metadata": {
        "colab": {
          "base_uri": "https://localhost:8080/",
          "height": 221
        },
        "id": "G8CERrita4pd",
        "outputId": "531720de-af27-4639-8d26-e3cd711b0ccb"
      },
      "execution_count": 63,
      "outputs": [
        {
          "output_type": "execute_result",
          "data": {
            "text/plain": [
              "<graphviz.dot.Digraph at 0x7f562749d450>"
            ],
            "image/svg+xml": "<?xml version=\"1.0\" encoding=\"UTF-8\" standalone=\"no\"?>\n<!DOCTYPE svg PUBLIC \"-//W3C//DTD SVG 1.1//EN\"\n \"http://www.w3.org/Graphics/SVG/1.1/DTD/svg11.dtd\">\n<!-- Generated by graphviz version 2.40.1 (20161225.0304)\n -->\n<!-- Title: %3 Pages: 1 -->\n<svg width=\"58pt\" height=\"150pt\"\n viewBox=\"0.00 0.00 57.60 150.19\" xmlns=\"http://www.w3.org/2000/svg\" xmlns:xlink=\"http://www.w3.org/1999/xlink\">\n<g id=\"graph0\" class=\"graph\" transform=\"scale(1 1) rotate(0) translate(4 146.1926)\">\n<title>%3</title>\n<polygon fill=\"#ffffff\" stroke=\"transparent\" points=\"-4,4 -4,-146.1926 53.5963,-146.1926 53.5963,4 -4,4\"/>\n<!-- 0 -->\n<g id=\"node1\" class=\"node\">\n<title>0</title>\n<ellipse fill=\"none\" stroke=\"#000000\" cx=\"24.7982\" cy=\"-121.3945\" rx=\"20.5982\" ry=\"20.5982\"/>\n<text text-anchor=\"middle\" x=\"24.7982\" y=\"-117.6945\" font-family=\"Times,serif\" font-size=\"14.00\" fill=\"#000000\">q0</text>\n</g>\n<!-- 1 -->\n<g id=\"node2\" class=\"node\">\n<title>1</title>\n<ellipse fill=\"none\" stroke=\"#000000\" cx=\"24.7982\" cy=\"-24.7982\" rx=\"20.6302\" ry=\"20.6302\"/>\n<ellipse fill=\"none\" stroke=\"#000000\" cx=\"24.7982\" cy=\"-24.7982\" rx=\"24.5979\" ry=\"24.5979\"/>\n<text text-anchor=\"middle\" x=\"24.7982\" y=\"-21.0982\" font-family=\"Times,serif\" font-size=\"14.00\" fill=\"#000000\">q1</text>\n</g>\n<!-- 0&#45;&gt;1 -->\n<g id=\"edge1\" class=\"edge\">\n<title>0&#45;&gt;1</title>\n<path fill=\"none\" stroke=\"#000000\" d=\"M24.7982,-100.4345C24.7982,-88.5844 24.7982,-73.4604 24.7982,-59.8555\"/>\n<polygon fill=\"#000000\" stroke=\"#000000\" points=\"28.2983,-59.8272 24.7982,-49.8272 21.2983,-59.8273 28.2983,-59.8272\"/>\n<text text-anchor=\"middle\" x=\"26.7982\" y=\"-71.3963\" font-family=\"Times,serif\" font-size=\"14.00\" fill=\"#000000\">,</text>\n</g>\n</g>\n</svg>\n"
          },
          "metadata": {},
          "execution_count": 63
        }
      ]
    },
    {
      "cell_type": "markdown",
      "source": [
        "#Parseo Json\n"
      ],
      "metadata": {
        "id": "hznD4WSXsc0s"
      }
    },
    {
      "cell_type": "markdown",
      "source": [
        "Para hacer el parser de Json vamos a definir \"tokens\" mas generales, es decir, simbolos no terminales para cada uno de estos describimos una función recursiva para cada uno, es deecir:\n",
        "* DataType correspondiente a algún tipo de dato que recibe Json\n",
        "* Pair correpondiente a la definición de cada miembro de un objeto\n",
        "* Objec y Array que describen los tipos de datos objeto y arreglo cuya sintaxís es mas compleja\n"
      ],
      "metadata": {
        "id": "Okh5_cc1Mndz"
      }
    },
    {
      "cell_type": "code",
      "source": [
        "def parseDataType(listTokens):\n",
        "  especialTypes={\n",
        "    'LeftBracket': lambda lt:parseObject(lt),\n",
        "    'LeftParenthesis': lambda lt:parseArray(lt),\n",
        "  }\n",
        "  valid={'String','Number','Boolean','Null'}\n",
        "  \n",
        "  if listTokens[0][0] in especialTypes:\n",
        "    n=especialTypes[listTokens[0][0]](listTokens)\n",
        "    if n==None:\n",
        "      return None\n",
        "  elif listTokens[0][0] in valid:\n",
        "    n=1\n",
        "  else:\n",
        "    return None\n",
        "  return n\n",
        " \n",
        "\n",
        "def parsePair(listTokens):\n",
        "  if listTokens[0][0]!='String' and listTokens[1][0]!='Asign':\n",
        "    return None\n",
        "  \n",
        "  n = parseDataType(listTokens[2:])\n",
        "  if n==None:\n",
        "    return None\n",
        "  \n",
        "  return 2+n\n",
        " \n",
        "  \n",
        "def parseObject(listTokens):\n",
        "  if listTokens[0][0]!='LeftBracket' :\n",
        "    return None\n",
        "  curr=1\n",
        "  while True:\n",
        "    n = parsePair(listTokens[curr:])\n",
        "    if n==None:\n",
        "      return None\n",
        "    curr+=n\n",
        "    if listTokens[curr][0]=='Comma':\n",
        "      curr+=1\n",
        "    elif listTokens[curr][0]=='RightBracket':\n",
        "      curr+=1\n",
        "      break\n",
        "    else:\n",
        "        return None\n",
        "        \n",
        "  return curr\n",
        "    \n",
        "def parseArray(listTokens):\n",
        "  if listTokens[0][0]!='LeftParenthesis':\n",
        "    return False\n",
        "  curr=1\n",
        "  while True:\n",
        "    n = parseDataType(listTokens[curr:])\n",
        "    if n==None:\n",
        "      return None\n",
        "    curr+=n\n",
        "    if listTokens[curr][0]=='Comma':\n",
        "      curr+=1\n",
        "    elif listTokens[curr][0]=='RightParenthesis':\n",
        "      curr+=1\n",
        "      break\n",
        "    else:\n",
        "        return None\n",
        "        \n",
        "  return curr\n",
        "\n",
        "def parseJson(json):\n",
        "  with open(json, 'r') as file:\n",
        "    string = file.read().replace('\\n','')\n",
        "\n",
        "  test = readInput(\"Json.txt\")\n",
        "  \n",
        " \n",
        "  listTokens=TokenIz(test,string)\n",
        "  for i in listTokens:\n",
        "    if(i[0]=='Separator'):\n",
        "      listTokens.remove(i)\n",
        "  \n",
        "  return parseObject(listTokens)==len(listTokens)"
      ],
      "metadata": {
        "id": "7-8rETwmrysu"
      },
      "execution_count": 64,
      "outputs": []
    },
    {
      "cell_type": "code",
      "source": [
        "!cat ex.txt"
      ],
      "metadata": {
        "colab": {
          "base_uri": "https://localhost:8080/"
        },
        "id": "HiL6MTyor8-T",
        "outputId": "6d03c821-bfba-48b3-a319-ca4da0052497"
      },
      "execution_count": 65,
      "outputs": [
        {
          "output_type": "stream",
          "name": "stdout",
          "text": [
            "{\r\n",
            "\t\"departamento\":8,\r\n",
            "\t\"nombredepto\":\"Ventas\",\r\n",
            "\t\"director\": \"Juan Rodríguez\",\r\n",
            "\t\"empleados\":[\r\n",
            "\t\t{\r\n",
            "\t\t\t\"nombre\":\"Pedro\",\r\n",
            "\t\t\t\"apellido\":\"Fernández\"\r\n",
            "\t\t},{\r\n",
            "\t\t\t\"nombre\":\"Jacinto\",\r\n",
            "\t\t\t\"apellido\":\"Benavente\"\r\n",
            "\t\t}\r\n",
            "\t]\r\n",
            "}"
          ]
        }
      ]
    },
    {
      "cell_type": "code",
      "source": [
        "if parseJson('ex.txt'):\n",
        "  print(\"\"\"\n",
        "--------------------------------------------------\n",
        "                    Json Válido\n",
        "--------------------------------------------------  \n",
        "  \"\"\")\n",
        "else:\n",
        "  print(\"\"\"\n",
        "--------------------------------------------------\n",
        "                    Json no Válido\n",
        "--------------------------------------------------  \n",
        "  \"\"\")"
      ],
      "metadata": {
        "colab": {
          "base_uri": "https://localhost:8080/"
        },
        "id": "0Q8SaHyjr6WL",
        "outputId": "83a91682-9d51-4523-f512-247563f3ae89"
      },
      "execution_count": 66,
      "outputs": [
        {
          "output_type": "stream",
          "name": "stdout",
          "text": [
            "Tipo de token LeftBracket - Posición inicial:1 - Posición final:1 - Valor:'{'\n",
            "Tipo de token Separator - Posición inicial:2 - Posición final:2 - Valor:'\t'\n",
            "Tipo de token String - Posición inicial:3 - Posición final:16 - Valor:'\"departamento\"'\n",
            "Tipo de token Asign - Posición inicial:17 - Posición final:17 - Valor:':'\n",
            "Tipo de token Number - Posición inicial:18 - Posición final:18 - Valor:'8'\n",
            "Tipo de token Comma - Posición inicial:19 - Posición final:19 - Valor:','\n",
            "Tipo de token Separator - Posición inicial:20 - Posición final:20 - Valor:'\t'\n",
            "Tipo de token String - Posición inicial:21 - Posición final:33 - Valor:'\"nombredepto\"'\n",
            "Tipo de token Asign - Posición inicial:34 - Posición final:34 - Valor:':'\n",
            "Tipo de token String - Posición inicial:35 - Posición final:42 - Valor:'\"Ventas\"'\n",
            "Tipo de token Comma - Posición inicial:43 - Posición final:43 - Valor:','\n",
            "Tipo de token Separator - Posición inicial:44 - Posición final:44 - Valor:'\t'\n",
            "Tipo de token String - Posición inicial:45 - Posición final:54 - Valor:'\"director\"'\n",
            "Tipo de token Asign - Posición inicial:55 - Posición final:55 - Valor:':'\n",
            "Tipo de token Separator - Posición inicial:56 - Posición final:56 - Valor:' '\n",
            "Tipo de token String - Posición inicial:57 - Posición final:72 - Valor:'\"Juan Rodríguez\"'\n",
            "Tipo de token Comma - Posición inicial:73 - Posición final:73 - Valor:','\n",
            "Tipo de token Separator - Posición inicial:74 - Posición final:74 - Valor:'\t'\n",
            "Tipo de token String - Posición inicial:75 - Posición final:85 - Valor:'\"empleados\"'\n",
            "Tipo de token Asign - Posición inicial:86 - Posición final:86 - Valor:':'\n",
            "Tipo de token LeftParenthesis - Posición inicial:87 - Posición final:87 - Valor:'['\n",
            "Tipo de token Separator - Posición inicial:88 - Posición final:89 - Valor:'\t\t'\n",
            "Tipo de token LeftBracket - Posición inicial:90 - Posición final:90 - Valor:'{'\n",
            "Tipo de token Separator - Posición inicial:91 - Posición final:93 - Valor:'\t\t\t'\n",
            "Tipo de token String - Posición inicial:94 - Posición final:101 - Valor:'\"nombre\"'\n",
            "Tipo de token Asign - Posición inicial:102 - Posición final:102 - Valor:':'\n",
            "Tipo de token String - Posición inicial:103 - Posición final:109 - Valor:'\"Pedro\"'\n",
            "Tipo de token Comma - Posición inicial:110 - Posición final:110 - Valor:','\n",
            "Tipo de token Separator - Posición inicial:111 - Posición final:113 - Valor:'\t\t\t'\n",
            "Tipo de token String - Posición inicial:114 - Posición final:123 - Valor:'\"apellido\"'\n",
            "Tipo de token Asign - Posición inicial:124 - Posición final:124 - Valor:':'\n",
            "Tipo de token String - Posición inicial:125 - Posición final:135 - Valor:'\"Fernández\"'\n",
            "Tipo de token Separator - Posición inicial:136 - Posición final:137 - Valor:'\t\t'\n",
            "Tipo de token RightBracket - Posición inicial:138 - Posición final:138 - Valor:'}'\n",
            "Tipo de token Comma - Posición inicial:139 - Posición final:139 - Valor:','\n",
            "Tipo de token LeftBracket - Posición inicial:140 - Posición final:140 - Valor:'{'\n",
            "Tipo de token Separator - Posición inicial:141 - Posición final:143 - Valor:'\t\t\t'\n",
            "Tipo de token String - Posición inicial:144 - Posición final:151 - Valor:'\"nombre\"'\n",
            "Tipo de token Asign - Posición inicial:152 - Posición final:152 - Valor:':'\n",
            "Tipo de token String - Posición inicial:153 - Posición final:161 - Valor:'\"Jacinto\"'\n",
            "Tipo de token Comma - Posición inicial:162 - Posición final:162 - Valor:','\n",
            "Tipo de token Separator - Posición inicial:163 - Posición final:165 - Valor:'\t\t\t'\n",
            "Tipo de token String - Posición inicial:166 - Posición final:175 - Valor:'\"apellido\"'\n",
            "Tipo de token Asign - Posición inicial:176 - Posición final:176 - Valor:':'\n",
            "Tipo de token String - Posición inicial:177 - Posición final:187 - Valor:'\"Benavente\"'\n",
            "Tipo de token Separator - Posición inicial:188 - Posición final:189 - Valor:'\t\t'\n",
            "Tipo de token RightBracket - Posición inicial:190 - Posición final:190 - Valor:'}'\n",
            "Tipo de token Separator - Posición inicial:191 - Posición final:191 - Valor:'\t'\n",
            "Tipo de token RightParenthesis - Posición inicial:192 - Posición final:192 - Valor:']'\n",
            "Tipo de token RightBracket - Posición inicial:193 - Posición final:193 - Valor:'}'\n",
            "\n",
            "--------------------------------------------------\n",
            "                    Json Válido\n",
            "--------------------------------------------------  \n",
            "  \n"
          ]
        }
      ]
    },
    {
      "cell_type": "markdown",
      "source": [
        "#3. Lenguaje natural\n",
        "\n",
        "Respecto a la tarea de tokenización en procesamiento de lenguaje natural:"
      ],
      "metadata": {
        "id": "ke7xeAI711By"
      }
    },
    {
      "cell_type": "markdown",
      "source": [
        "1. Explique brevemente en que consiste la tokenización por subpalabras (subwords).\n",
        "\n",
        "La idea detrás de la tokenización por subpalabras es identificar qué palabras en un texto son indescomponibles y cuáles están compuestas de otras subpalabras cuyo significado es más simple que el de la palabra original. Por ejemplo en inglés la palabra *homework*, que significa tarea, puede dividirse en *home*, casa y *work*, trabajo. Esto resulta ser espacialmente importante cuando se trabaja con idiomas que permiten crear nuevas palabras arbitrariamente largas concatenando palabras existentes, como el alemán y el turco."
      ],
      "metadata": {
        "id": "eyrPnGVxfpLD"
      }
    },
    {
      "cell_type": "markdown",
      "source": [
        "2. Explique brevemente en que consiste el Byte-Pair-Encoding.\n",
        "\n",
        "El algoritmo Byte-Pair-Encoding(BPE) consiste en considerar las letras de un idioma como bytes, y buscar, en un texto determinado, cuáles son los pares de letras que se repiten con más frecuencia, para poder formar tokens con dichos pares de letras. Esto permite usar relativamente pocos tokens para tokenizar todo el texto."
      ],
      "metadata": {
        "id": "WKRWj9YW8-Uy"
      }
    },
    {
      "cell_type": "markdown",
      "source": [
        "3. Explique brevemente en que consiste el algoritmo unigram.\n",
        "\n",
        "El algoritmo unigram se basa en la probabilidad que tiene cada palabra de un cierto alfabeto de aparecer en un texto determinado. Usando esto, podemos calcular la probabilidad de que cierta frase aparezca en un texto(simplemente multiplicando la probabilidad de aparación de cada palabra de la frase) o también podemos tratar de predecir cuál es la palabra que le sigue a una frase, calculando para cierto número de palabras la probabilidad condicional de que estas acompañen la frase y viendo para cuál palabra dicha probabilidad es mayor. "
      ],
      "metadata": {
        "id": "f-t5PsKuRlrh"
      }
    },
    {
      "cell_type": "markdown",
      "source": [
        "4. Explique la diferencia entre estas estrategias y los parsers basados en lenguaje natural.\n",
        "\n",
        "Las estrategias anteriormente descritas se basan única y exclusivamente en análisis estadísticos de los patrones que aparecen en el lenguaje natural. La desventaja que tienen es que no se basan directamente en las reglas gramaticales que existen en todos los idiomas hablados. Un parser basado en lenguaje natural(NLP) utiliza dichas reglas para dividir las oraciones en tokens(sustantivos, verbos, adjetivos, adverbios,...) e identificar si son gramaticalmente y semánticamente correctas, y en ese caso, darles una interpretación sensata.\n",
        "\n",
        "Una desventaja de este enfoque es que debido a que los lenguajes evolucionaron para permitir la comunicación humana, no están estructurados de una manera que se fácil de tokenizar para los computadores, pues en muchas ocasiones una frase se puede interpretar de múltiples formas. Además de que casi todos los idiomas humanos usan metáforas, frases hechas, sarcasmo, etc. Esto hace que sea conveniente usar una red neuronal entrenada para tener en cuenta estas sutilezas y analizar correctamente los lenguajes naturales.\n",
        "\n"
      ],
      "metadata": {
        "id": "yJ6l6iGmI8fS"
      }
    },
    {
      "cell_type": "markdown",
      "source": [
        "---\n",
        "\n",
        "**Navegacion entre los Notebooks:**\n",
        "\n",
        "Regresar a [Introduccion del proyecto 1](Introduccion_Proyecto1.ipynb)<br>\n",
        "\n",
        "---\n",
        "\n",
        "**Autores:** Alejandro Martin Salcedo, Daniel Santiago Pardo Gomez, Santiago Jimenez Salazar\n",
        "\n",
        "---"
      ],
      "metadata": {
        "id": "ycxb1o_B4Opg"
      }
    },
    {
      "cell_type": "code",
      "source": [],
      "metadata": {
        "id": "7s33bYl_cWVK"
      },
      "execution_count": null,
      "outputs": []
    }
  ]
}