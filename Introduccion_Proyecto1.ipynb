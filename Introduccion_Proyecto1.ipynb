{
  "nbformat": 4,
  "nbformat_minor": 0,
  "metadata": {
    "colab": {
      "provenance": []
    },
    "kernelspec": {
      "name": "python3",
      "display_name": "Python 3"
    },
    "language_info": {
      "name": "python"
    }
  },
  "cells": [
    {
      "cell_type": "markdown",
      "source": [
        "# Proyecto 1\n",
        "\n",
        "Los jupyter notebooks presentados en esta carpeta son para el desarrollo de la primera parte del proyecto de la materia de Compiladores. Esta primera parte del proyecto fue realizada en grupos de 3 personas, los integrantes del grupo son:\n",
        "\n",
        "- **Alejandro Martin Salcedo**\n",
        "- **Daniel Santiago Pardo Gomez**\n",
        "- **Santiago Jimenez Salazar**\n",
        "\n",
        "Las especificaciones del proyecto fueron agrupadas en un solo notebook: [Proyecto 1](ProyectoCompiladores1.ipynb)<br>\n",
        "\n",
        "---\n",
        "\n",
        "**Autores:** Alejandro Martin Salcedo, Daniel Santiago Pardo Gomez, Santiago Jimenez Salazar\n",
        "\n",
        "---\n"
      ],
      "metadata": {
        "id": "hNtaMhG8YY9t"
      }
    },
    {
      "cell_type": "code",
      "source": [],
      "metadata": {
        "id": "Up2C33Vlcjwd"
      },
      "execution_count": null,
      "outputs": []
    }
  ]
}